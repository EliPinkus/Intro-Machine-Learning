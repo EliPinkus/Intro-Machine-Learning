{
 "cells": [
  {
   "cell_type": "code",
   "execution_count": 46,
   "metadata": {
    "collapsed": true
   },
   "outputs": [],
   "source": [
    "import pandas as pd\n",
    "import numpy as np\n",
    "from sklearn import linear_model"
   ]
  },
  {
   "cell_type": "code",
   "execution_count": 27,
   "metadata": {
    "collapsed": false
   },
   "outputs": [],
   "source": [
    "# opening data and cleaning it into usable format\n",
    "with open('in.dta','r') as tsv:\n",
    "    raw = [line.strip().split('\\t') for line in tsv]\n",
    "\n",
    "split = []\n",
    "for pt in raw:\n",
    "    split.append(pt[0].split())\n",
    "    \n",
    "in_data = []\n",
    "for pt in split:\n",
    "    in_data.append([np.array([float(pt[0]),float(pt[1])]),float(pt[2])])\n",
    "    \n",
    "with open('out.dta','r') as tsv:\n",
    "    raw = [line.strip().split('\\t') for line in tsv]\n",
    "\n",
    "split = []\n",
    "for pt in raw:\n",
    "    split.append(pt[0].split())\n",
    "    \n",
    "out_data = []\n",
    "for pt in split:\n",
    "    out_data.append([np.array([float(pt[0]),float(pt[1])]),float(pt[2])])"
   ]
  },
  {
   "cell_type": "code",
   "execution_count": 33,
   "metadata": {
    "collapsed": false
   },
   "outputs": [],
   "source": [
    "# non linear transform\n",
    "def phi (pt):\n",
    "    return [np.array([1,pt[0][0],pt[0][1],(pt[0][0])**2,(pt[0][1])**2, pt[0][1]*pt[0][0], np.abs(pt[0][0] - pt[0][1]), np.abs(pt[0][0]+pt[0][1])]),pt[1]]"
   ]
  },
  {
   "cell_type": "code",
   "execution_count": 91,
   "metadata": {
    "collapsed": false
   },
   "outputs": [],
   "source": [
    "#transform pts\n",
    "trans_data = []\n",
    "for pt in in_data:\n",
    "    trans_data.append(phi(pt))\n",
    "\n",
    "X = []\n",
    "y = []\n",
    "for pt in trans_data:\n",
    "    X.append(pt[0])\n",
    "    y.append(pt[1])\n",
    "\n",
    "# standard linear regression\n",
    "X = np.array(X)\n",
    "y = np.array(y)\n",
    "\n",
    "xp = np.linalg.pinv(X)\n",
    "w = xp @ y\n"
   ]
  },
  {
   "cell_type": "code",
   "execution_count": 92,
   "metadata": {
    "collapsed": false
   },
   "outputs": [
    {
     "name": "stdout",
     "output_type": "stream",
     "text": [
      "E_in: 0.02857142857142857\n"
     ]
    }
   ],
   "source": [
    "errors = 0\n",
    "for pt in trans_data:\n",
    "    if not np.sign(w.dot(pt[0])) == np.sign(pt[1]):\n",
    "        errors += 1\n",
    "print(\"E_in: \" + str(float(errors)/float(len(trans_data))))"
   ]
  },
  {
   "cell_type": "code",
   "execution_count": 93,
   "metadata": {
    "collapsed": false
   },
   "outputs": [
    {
     "name": "stdout",
     "output_type": "stream",
     "text": [
      "E_out: 0.084\n"
     ]
    }
   ],
   "source": [
    "errors = 0\n",
    "for pt in out_data:\n",
    "    trans = phi(pt)\n",
    "    if not np.sign(w.dot(trans[0])) == np.sign(pt[1]):\n",
    "        errors += 1\n",
    "\n",
    "print(\"E_out: \" + str(float(errors)/float(len(out_data))))"
   ]
  },
  {
   "cell_type": "code",
   "execution_count": 120,
   "metadata": {
    "collapsed": false
   },
   "outputs": [],
   "source": [
    "# regularized linear regression\n",
    "X = np.matrix(X)\n",
    "y = np.matrix(y)\n",
    "I = np.matrix(np.identity(len(trans_data[0][0])))\n",
    "lam = 10**(-3)\n",
    "L = X.transpose()*X + lam * I\n",
    "w_reg = np.array(np.linalg.inv(L)*X.transpose()*y.transpose())\n",
    "w_reg = w_reg.transpose()"
   ]
  },
  {
   "cell_type": "code",
   "execution_count": 121,
   "metadata": {
    "collapsed": false
   },
   "outputs": [
    {
     "name": "stdout",
     "output_type": "stream",
     "text": [
      "E_in: 0.02857142857142857\n"
     ]
    }
   ],
   "source": [
    "errors = 0\n",
    "for pt in trans_data:\n",
    "    if not np.sign(w_reg.dot(pt[0])) == np.sign(pt[1]):\n",
    "        errors += 1\n",
    "print(\"E_in: \" + str(float(errors)/float(len(trans_data))))"
   ]
  },
  {
   "cell_type": "code",
   "execution_count": 122,
   "metadata": {
    "collapsed": false
   },
   "outputs": [
    {
     "name": "stdout",
     "output_type": "stream",
     "text": [
      "E_out: 0.08\n"
     ]
    }
   ],
   "source": [
    "errors = 0\n",
    "for pt in out_data:\n",
    "    trans = phi(pt)\n",
    "    if not np.sign(w_reg.dot(trans[0])) == np.sign(pt[1]):\n",
    "        errors += 1\n",
    "\n",
    "print(\"E_out: \" + str(float(errors)/float(len(out_data))))"
   ]
  },
  {
   "cell_type": "code",
   "execution_count": 123,
   "metadata": {
    "collapsed": true
   },
   "outputs": [],
   "source": [
    "X = np.matrix(X)\n",
    "y = np.matrix(y)\n",
    "I = np.matrix(np.identity(len(trans_data[0][0])))\n",
    "lam = 10**(3)\n",
    "L = X.transpose()*X + lam * I\n",
    "w_reg = np.array(np.linalg.inv(L)*X.transpose()*y.transpose())\n",
    "w_reg = w_reg.transpose()"
   ]
  },
  {
   "cell_type": "code",
   "execution_count": 124,
   "metadata": {
    "collapsed": false
   },
   "outputs": [
    {
     "name": "stdout",
     "output_type": "stream",
     "text": [
      "E_in: 0.37142857142857144\n"
     ]
    }
   ],
   "source": [
    "errors = 0\n",
    "for pt in trans_data:\n",
    "    if not np.sign(w_reg.dot(pt[0])) == np.sign(pt[1]):\n",
    "        errors += 1\n",
    "print(\"E_in: \" + str(float(errors)/float(len(trans_data))))"
   ]
  },
  {
   "cell_type": "code",
   "execution_count": 125,
   "metadata": {
    "collapsed": false
   },
   "outputs": [
    {
     "name": "stdout",
     "output_type": "stream",
     "text": [
      "E_out: 0.436\n"
     ]
    }
   ],
   "source": [
    "errors = 0\n",
    "for pt in out_data:\n",
    "    trans = phi(pt)\n",
    "    if not np.sign(w_reg.dot(trans[0])) == np.sign(pt[1]):\n",
    "        errors += 1\n",
    "\n",
    "print(\"E_out: \" + str(float(errors)/float(len(out_data))))"
   ]
  },
  {
   "cell_type": "code",
   "execution_count": 133,
   "metadata": {
    "collapsed": false
   },
   "outputs": [],
   "source": [
    "# regularized linear regression for various k values: get min E_out\n",
    "ks = [2,1,0,-1,-2]\n",
    "E_min = 10\n",
    "k_min = 60\n",
    "for k in ks:\n",
    "    X = np.matrix(X)\n",
    "    y = np.matrix(y)\n",
    "    I = np.matrix(np.identity(len(trans_data[0][0])))\n",
    "    lam = 10**(k)\n",
    "    L = X.transpose()*X + lam * I\n",
    "    w_reg = np.array(np.linalg.inv(L)*X.transpose()*y.transpose())\n",
    "    w_reg = w_reg.transpose()\n",
    "    \n",
    "    errors = 0\n",
    "    for pt in out_data:\n",
    "        trans = phi(pt)\n",
    "        if not np.sign(w_reg.dot(trans[0])) == np.sign(pt[1]):\n",
    "            errors += 1\n",
    "            \n",
    "    E = float(errors)/float(len(out_data))\n",
    "    if E < E_min:\n",
    "        E_min = E\n",
    "        k_min = k\n",
    "\n"
   ]
  },
  {
   "cell_type": "code",
   "execution_count": 134,
   "metadata": {
    "collapsed": false
   },
   "outputs": [
    {
     "name": "stdout",
     "output_type": "stream",
     "text": [
      "the k with the smallest E_out is: -1\n"
     ]
    }
   ],
   "source": [
    "print (\"the k with the smallest E_out is: \" + str(k_min))"
   ]
  },
  {
   "cell_type": "code",
   "execution_count": 130,
   "metadata": {
    "collapsed": false
   },
   "outputs": [
    {
     "data": {
      "text/plain": [
       "0.056"
      ]
     },
     "execution_count": 130,
     "metadata": {},
     "output_type": "execute_result"
    }
   ],
   "source": [
    "E_min"
   ]
  },
  {
   "cell_type": "code",
   "execution_count": 145,
   "metadata": {
    "collapsed": false
   },
   "outputs": [],
   "source": [
    "ks = list(range(-20,20))\n",
    "\n",
    "E_min = 10\n",
    "k_min = 60\n",
    "for k in ks:\n",
    "    X = np.matrix(X)\n",
    "    y = np.matrix(y)\n",
    "    I = np.matrix(np.identity(len(trans_data[0][0])))\n",
    "    lam = 10**(k)\n",
    "    L = X.transpose()*X + lam * I\n",
    "    w_reg = np.array(np.linalg.inv(L)*X.transpose()*y.transpose())\n",
    "    w_reg = w_reg.transpose()\n",
    "    \n",
    "    errors = 0\n",
    "    for pt in out_data:\n",
    "        trans = phi(pt)\n",
    "        if not np.sign(w_reg.dot(trans[0])) == np.sign(pt[1]):\n",
    "            errors += 1\n",
    "            \n",
    "    E = float(errors)/float(len(out_data))\n",
    "    if E < E_min:\n",
    "        E_min = E\n",
    "        k_min = k"
   ]
  },
  {
   "cell_type": "code",
   "execution_count": 146,
   "metadata": {
    "collapsed": false
   },
   "outputs": [
    {
     "data": {
      "text/plain": [
       "-1"
      ]
     },
     "execution_count": 146,
     "metadata": {},
     "output_type": "execute_result"
    }
   ],
   "source": [
    "k_min"
   ]
  },
  {
   "cell_type": "code",
   "execution_count": null,
   "metadata": {
    "collapsed": true
   },
   "outputs": [],
   "source": []
  }
 ],
 "metadata": {
  "kernelspec": {
   "display_name": "Python 3",
   "language": "python",
   "name": "python3"
  },
  "language_info": {
   "codemirror_mode": {
    "name": "ipython",
    "version": 3
   },
   "file_extension": ".py",
   "mimetype": "text/x-python",
   "name": "python",
   "nbconvert_exporter": "python",
   "pygments_lexer": "ipython3",
   "version": "3.6.0"
  }
 },
 "nbformat": 4,
 "nbformat_minor": 2
}
