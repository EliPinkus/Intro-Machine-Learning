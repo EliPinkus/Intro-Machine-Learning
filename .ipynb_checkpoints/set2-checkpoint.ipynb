{
 "cells": [
  {
   "cell_type": "code",
   "execution_count": 1,
   "metadata": {
    "collapsed": true
   },
   "outputs": [],
   "source": [
    "import numpy as np\n",
    "import matplotlib.pyplot as plt\n",
    "import random as ran\n",
    "import scipy.integrate as integrate\n",
    "from sklearn.linear_model import LinearRegression\n",
    "%matplotlib inline"
   ]
  },
  {
   "cell_type": "code",
   "execution_count": 3,
   "metadata": {
    "collapsed": true
   },
   "outputs": [],
   "source": [
    "# Toss coin N times and return frequency of heads\n",
    "def tossCoin(N):\n",
    "    results = []\n",
    "    for i in range(0,N):\n",
    "        results.append(ran.choice([0,1]))\n",
    "    return np.mean(results)\n",
    "        \n",
    "    "
   ]
  },
  {
   "cell_type": "code",
   "execution_count": 4,
   "metadata": {
    "collapsed": false
   },
   "outputs": [
    {
     "data": {
      "text/plain": [
       "0.49971300000000002"
      ]
     },
     "execution_count": 4,
     "metadata": {},
     "output_type": "execute_result"
    }
   ],
   "source": [
    "tossCoin(1000000)"
   ]
  },
  {
   "cell_type": "code",
   "execution_count": 5,
   "metadata": {
    "collapsed": true
   },
   "outputs": [],
   "source": [
    "# Toss 'coins' coins N times and return the interesting coins in a 3-tuple\n",
    "def getInterestCoins(coins, N):\n",
    "    results = []\n",
    "    for i in range(coins):\n",
    "        results.append(tossCoin(N))\n",
    "    return (results[0], ran.choice(results), min(results))"
   ]
  },
  {
   "cell_type": "code",
   "execution_count": 11,
   "metadata": {
    "collapsed": false
   },
   "outputs": [],
   "source": [
    "c1 = []\n",
    "c_ran = []\n",
    "c_min = []\n",
    "for i in range(100000):\n",
    "    trial = getInterestCoins(1000, 10)\n",
    "    c1.append(trial[0])\n",
    "    c_ran.append(trial[1])\n",
    "    c_min.append(trial[2])"
   ]
  },
  {
   "cell_type": "code",
   "execution_count": 10,
   "metadata": {
    "collapsed": false
   },
   "outputs": [
    {
     "name": "stdout",
     "output_type": "stream",
     "text": [
      "Average of c1: 0.499788\n",
      "Average of c_ran: 0.499046\n",
      "Average of c_min: 0.037341\n"
     ]
    }
   ],
   "source": [
    "print(\"Average of c1: \" + str(np.mean(c1)))\n",
    "\n",
    "print(\"Average of c_ran: \" + str(np.mean(c_ran)))\n",
    "\n",
    "print(\"Average of c_min: \" + str(np.mean(c_min)))"
   ]
  },
  {
   "cell_type": "code",
   "execution_count": 2,
   "metadata": {
    "collapsed": true
   },
   "outputs": [],
   "source": [
    "# make a line between two random points\n",
    "def getLine():\n",
    "    (x1, y1) = (ran.uniform(-1,1), ran.uniform(-1,1))\n",
    "    (x2, y2) = (ran.uniform(-1,1), ran.uniform(-1,1))\n",
    "    line = lambda x:(y2-y1)/(x2-x1)*(x-x1)\n",
    "    return line"
   ]
  },
  {
   "cell_type": "code",
   "execution_count": 3,
   "metadata": {
    "collapsed": true
   },
   "outputs": [],
   "source": [
    "# Generate N unlabeled test pts\n",
    "def generatePts(N):\n",
    "    pts = []\n",
    "    for i in range(0,N):\n",
    "        pt = ran.uniform(-1,1), ran.uniform(-1,1)\n",
    "        pts.append(pt)\n",
    "    return pts"
   ]
  },
  {
   "cell_type": "code",
   "execution_count": 4,
   "metadata": {
    "collapsed": true
   },
   "outputs": [],
   "source": [
    "# label and return a given set of points\n",
    "def labelPts(pts, line):\n",
    "    labeled_pts = []\n",
    "    for pt in pts:\n",
    "        if pt[1] > line(pt[0]):\n",
    "            labeled_pts.append((1, pt[0], pt[1], 1))\n",
    "        else:\n",
    "            labeled_pts.append((1, pt[0], pt[1], -1))\n",
    "    return labeled_pts"
   ]
  },
  {
   "cell_type": "code",
   "execution_count": 5,
   "metadata": {
    "collapsed": false
   },
   "outputs": [],
   "source": [
    "# runs regression on given pts classified by given target\n",
    "# if testing is on it returns (w, E_in, E_out)\n",
    "# if testing is off it returns w, line of best fit\n",
    "def doRegression(pts, target, graph = True, test = True):\n",
    "    # generate points labeled according to the target function\n",
    "    line = target\n",
    "    labeled_pts = labelPts(pts, line)\n",
    "    \n",
    "    \n",
    "    # format data for sklearn package\n",
    "    x = []\n",
    "    y = []\n",
    "    for pt in labeled_pts:\n",
    "        x.append([pt[1],pt[2]])\n",
    "        y.append(pt[3])\n",
    "        \n",
    "    # perform regression with sklearn\n",
    "    lm = LinearRegression(fit_intercept=True)\n",
    "    lm.fit(x,y)\n",
    "    \n",
    "    # compile resulting w \n",
    "    w = [lm.intercept_, lm.coef_[0],lm.coef_[1]]\n",
    "    \n",
    "    # line of best fit:\n",
    "    rline = lambda x1:-(w[0]+w[1]*x1)/w[2]\n",
    "    \n",
    "    # graph things if asked\n",
    "    if graph == True:\n",
    "        X = np.linspace(-1,1,1000)\n",
    "        y = line(X)\n",
    "        ry = rline(X)\n",
    "        plt.ylim(-1,1)\n",
    "        plt.xlim(-1,1)\n",
    "        plt.plot(X,y, color = \"blue\", label = \"target function\")\n",
    "        plt.plot(X,ry, color = \"red\", label = \"regression line\")\n",
    "        plt.legend()\n",
    "        for pt in labeled_pts:\n",
    "            if pt[3] == 1:\n",
    "                plt.plot(pt[1],pt[2], 'g^')\n",
    "            else:\n",
    "                plt.plot(pt[1],pt[2], 'r^')\n",
    "                \n",
    "                \n",
    "    # approximate E_in and E_out if testing is requested\n",
    "    if test:\n",
    "        test_pts = labelPts(generatePts(1000), line)\n",
    "        \n",
    "        \n",
    "        E_in = 0\n",
    "        for pt in labeled_pts:\n",
    "            if np.sign(w[0]+w[1]*pt[1]+w[2]*pt[2]) != pt[3]:\n",
    "                E_in += 1\n",
    "        E_in /= 1000.0\n",
    "        \n",
    "        E_out = 0\n",
    "        for pt in test_pts:\n",
    "            if np.sign(w[0]+w[1]*pt[1]+w[2]*pt[2]) != pt[3]:\n",
    "                E_out += 1\n",
    "                \n",
    "        E_out /= 1000.0\n",
    "        return w, E_in, E_out\n",
    "        \n",
    "    \n",
    "    return w, rline\n",
    "    "
   ]
  },
  {
   "cell_type": "code",
   "execution_count": 6,
   "metadata": {
    "collapsed": false
   },
   "outputs": [
    {
     "data": {
      "text/plain": [
       "([0.49695655511839598, -0.91999590630010675, 0.77631928811477036],\n",
       " 0.003,\n",
       " 0.015)"
      ]
     },
     "execution_count": 6,
     "metadata": {},
     "output_type": "execute_result"
    },
    {
     "data": {
      "image/png": "[encoded data removed]",
      "text/plain": [
       "<matplotlib.figure.Figure at 0x10d0bb048>"
      ]
     },
     "metadata": {},
     "output_type": "display_data"
    }
   ],
   "source": [
    "doRegression(generatePts(100), getLine())"
   ]
  },
  {
   "cell_type": "code",
   "execution_count": 8,
   "metadata": {
    "collapsed": false
   },
   "outputs": [
    {
     "name": "stdout",
     "output_type": "stream",
     "text": [
      "AVERAGE VALUES FOR 1000 ATTEMPTS:\n",
      "E_in: 0.003457\n",
      "E_out: 0.043231\n"
     ]
    }
   ],
   "source": [
    "E_ins = []\n",
    "E_outs = []\n",
    "for i in range(1000):\n",
    "    result = doRegression(generatePts(100),getLine(), graph = False)\n",
    "    \n",
    "    E_ins.append(result[1])\n",
    "    E_outs.append(result[2])\n",
    "\n",
    "E_in = np.mean(E_ins)\n",
    "E_out = np.mean(E_outs)\n",
    "\n",
    "\n",
    "print(\"AVERAGE VALUES FOR 1000 ATTEMPTS:\")\n",
    "print (\"E_in: \" + str(E_in))\n",
    "print(\"E_out: \" + str(E_out))"
   ]
  },
  {
   "cell_type": "code",
   "execution_count": 9,
   "metadata": {
    "collapsed": true
   },
   "outputs": [],
   "source": [
    "# run the PLA, graph is asked, test w/ 1000 pts if asked\n",
    "# sets w based on the result of regression on the points.\n",
    "# returns iterations required. If testing=True returns missed pts out of 1000 as well\n",
    "def doRegPLA(N, graph = True, test = True):\n",
    "    line = getLine()\n",
    "    pts = generatePts(N)\n",
    "    \n",
    "    # get starting w via regression\n",
    "    reg = doRegression(pts, line, test = False, graph = False)\n",
    "    w = reg[0]\n",
    "    rline = reg[1]\n",
    "    \n",
    "    if graph:\n",
    "        X = np.linspace(-1,1,1000)\n",
    "        ry = rline(X)\n",
    "        plt.plot(X,ry, color = 'purple', label = \"regression line\")\n",
    "    \n",
    "\n",
    "\n",
    "\n",
    "    labeled_pts = labelPts(pts, line)\n",
    "    \n",
    "            \n",
    "            \n",
    "    # Graph target function and labeled pts if we want\n",
    "    if graph == True:\n",
    "        X = np.linspace(-1,1,1000)\n",
    "        y = line(X)\n",
    "        plt.ylim(-1,1)\n",
    "        plt.xlim(-1,1)\n",
    "        plt.plot(X,y, label = \"target function\", color = \"blue\")\n",
    "        \n",
    "        for pt in labeled_pts:\n",
    "            if pt[3] == 1:\n",
    "                plt.plot(pt[1],pt[2], 'g^')\n",
    "            else:\n",
    "                plt.plot(pt[1],pt[2], 'r^')\n",
    "            \n",
    "    \n",
    "    mis_pts = []\n",
    "        \n",
    "    for pt in labeled_pts:\n",
    "        if np.sign(w[0]+w[1]*pt[1]+w[2]*pt[2]) != pt[3]:\n",
    "            mis_pts.append(pt)\n",
    "    \n",
    "    # begin perceptron iterations and count them\n",
    "    iters = 0\n",
    "    while len(mis_pts) is not 0:\n",
    "        # choose randoim missclasified point and update\n",
    "        pt = ran.choice(mis_pts)\n",
    "        \n",
    "        w[0] += pt[3]*pt[0]\n",
    "        w[1] += pt[3]*pt[1]\n",
    "        w[2] += pt[3]*pt[2]\n",
    "        \n",
    "        \n",
    "        # recheck for misclassified points\n",
    "        mis_pts = []\n",
    "        \n",
    "        for pt in labeled_pts:\n",
    "            if np.sign(w[0]+w[1]*pt[1]+w[2]*pt[2]) != pt[3]:\n",
    "                mis_pts.append(pt)\n",
    "        iters += 1\n",
    "        \n",
    "    pline = lambda x: -(x*w[1]+w[0])/w[2]\n",
    "\n",
    "\n",
    "    if graph == True:\n",
    "        xp = np.linspace(-1,1,1000)\n",
    "        yp = pline(xp)\n",
    "        plt.plot(xp, yp, \"yellow\", label = \"perceptron line\")\n",
    "        plt.legend()\n",
    "    \n",
    "    # if we want to test, we will test:\n",
    "    if test == True:\n",
    "        # generate and label 10000 test points according to f(x)\n",
    "        test_points = generatePts(1000)\n",
    "\n",
    "        labeled_test_pts = []\n",
    "        for pt in test_points:\n",
    "            if pt[1] > line(pt[0]):\n",
    "                labeled_test_pts.append((1, pt[0], pt[1], 1))\n",
    "            else:\n",
    "                labeled_test_pts.append((1, pt[0], pt[1], -1))\n",
    "\n",
    "        # count misclassified test points\n",
    "        mis_labeled_pts = []\n",
    "        for pt in labeled_test_pts:\n",
    "            if np.sign(w[0]+w[1]*pt[1]+w[2]*pt[2]) != pt[3]:\n",
    "                mis_labeled_pts.append(pt)\n",
    "    \n",
    "        return iters, len(mis_labeled_pts)\n",
    "    \n",
    "    return iters"
   ]
  },
  {
   "cell_type": "code",
   "execution_count": 17,
   "metadata": {
    "collapsed": false
   },
   "outputs": [
    {
     "data": {
      "text/plain": [
       "0"
      ]
     },
     "execution_count": 17,
     "metadata": {},
     "output_type": "execute_result"
    },
    {
     "data": {
      "image/png": "[encoded data removed]",
      "text/plain": [
       "<matplotlib.figure.Figure at 0x118b05160>"
      ]
     },
     "metadata": {},
     "output_type": "display_data"
    }
   ],
   "source": [
    "doRegPLA(10, test=False)"
   ]
  },
  {
   "cell_type": "code",
   "execution_count": 10,
   "metadata": {
    "collapsed": false
   },
   "outputs": [
    {
     "name": "stdout",
     "output_type": "stream",
     "text": [
      "3.936\n"
     ]
    }
   ],
   "source": [
    "iters = []\n",
    "for i in range(1000):\n",
    "    iters.append(doRegPLA(10, graph = False, test = False))\n",
    "\n",
    "\n",
    "print(np.mean(iters))"
   ]
  },
  {
   "cell_type": "code",
   "execution_count": null,
   "metadata": {
    "collapsed": true
   },
   "outputs": [],
   "source": []
  }
 ],
 "metadata": {
  "kernelspec": {
   "display_name": "Python 3",
   "language": "python",
   "name": "python3"
  },
  "language_info": {
   "codemirror_mode": {
    "name": "ipython",
    "version": 3
   },
   "file_extension": ".py",
   "mimetype": "text/x-python",
   "name": "python",
   "nbconvert_exporter": "python",
   "pygments_lexer": "ipython3",
   "version": "3.6.0"
  }
 },
 "nbformat": 4,
 "nbformat_minor": 2
}
