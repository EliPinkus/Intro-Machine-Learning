{
 "cells": [
  {
   "cell_type": "code",
   "execution_count": 3,
   "metadata": {
    "collapsed": true
   },
   "outputs": [],
   "source": [
    "import pandas as pd\n",
    "import numpy as np\n",
    "from sklearn import linear_model\n",
    "import random as ran\n",
    "import matplotlib.pyplot as plt\n",
    "%matplotlib inline\n",
    "from sklearn import svm\n",
    "from sklearn.model_selection import KFold"
   ]
  },
  {
   "cell_type": "code",
   "execution_count": 37,
   "metadata": {
    "collapsed": false
   },
   "outputs": [],
   "source": [
    "phi = lambda x: [x[1]**2-2*x[0]-1,x[0]**2-2*x[1]+1]"
   ]
  },
  {
   "cell_type": "code",
   "execution_count": 38,
   "metadata": {
    "collapsed": true
   },
   "outputs": [],
   "source": [
    "X=[[1,0],[0,1],[0,-1],[-1,0],[0,2],[0,-2],[-2,0]]\n",
    "y=[-1,-1,-1,1,1,1,1]"
   ]
  },
  {
   "cell_type": "code",
   "execution_count": 39,
   "metadata": {
    "collapsed": false
   },
   "outputs": [],
   "source": [
    "X_trans = [phi(pt) for pt in X]"
   ]
  },
  {
   "cell_type": "code",
   "execution_count": 40,
   "metadata": {
    "collapsed": false
   },
   "outputs": [
    {
     "data": {
      "image/png": "[encoded data removed]",
      "text/plain": [
       "<matplotlib.figure.Figure at 0x119dd2b00>"
      ]
     },
     "metadata": {},
     "output_type": "display_data"
    }
   ],
   "source": [
    "for i in range(len(X_trans)):\n",
    "    if y[i] == 1:\n",
    "        plt.plot(X_trans[i][0],X_trans[i][1], 'g^')\n",
    "    else:\n",
    "        plt.plot(X_trans[i][0],X_trans[i][1], 'ro')\n",
    "\n"
   ]
  },
  {
   "cell_type": "code",
   "execution_count": 32,
   "metadata": {
    "collapsed": false
   },
   "outputs": [
    {
     "data": {
      "text/plain": [
       "[[-3, 2], [0, -1], [0, 3], [1, 2], [3, -3], [3, 5], [3, 5]]"
      ]
     },
     "execution_count": 32,
     "metadata": {},
     "output_type": "execute_result"
    }
   ],
   "source": [
    "X_trans"
   ]
  },
  {
   "cell_type": "code",
   "execution_count": 46,
   "metadata": {
    "collapsed": false
   },
   "outputs": [
    {
     "data": {
      "text/plain": [
       "SVC(C=10000000000000, cache_size=200, class_weight=None, coef0=1.0,\n",
       "  decision_function_shape=None, degree=2, gamma=1.0, kernel='poly',\n",
       "  max_iter=-1, probability=False, random_state=None, shrinking=True,\n",
       "  tol=0.001, verbose=False)"
      ]
     },
     "execution_count": 46,
     "metadata": {},
     "output_type": "execute_result"
    }
   ],
   "source": [
    "s = svm.SVC(kernel='poly', degree = 2, C=10000000000000, coef0=1.0, gamma=1.0)\n",
    "s.fit(X,y)"
   ]
  },
  {
   "cell_type": "code",
   "execution_count": 47,
   "metadata": {
    "collapsed": false
   },
   "outputs": [
    {
     "data": {
      "text/plain": [
       "5"
      ]
     },
     "execution_count": 47,
     "metadata": {},
     "output_type": "execute_result"
    }
   ],
   "source": [
    "len(s.support_vectors_)"
   ]
  },
  {
   "cell_type": "code",
   "execution_count": 5,
   "metadata": {
    "collapsed": false
   },
   "outputs": [],
   "source": [
    "def generatePts(N):\n",
    "    X = [np.array([ran.uniform(-1,1), ran.uniform(-1,1)]) for i in range(N)]\n",
    "    y = np.array([np.sign(pt[1]-pt[0]+.25*np.sin(np.pi*pt[0])) for pt in X])\n",
    "    return X,y"
   ]
  },
  {
   "cell_type": "code",
   "execution_count": 74,
   "metadata": {
    "collapsed": false
   },
   "outputs": [],
   "source": [
    "scores = []\n",
    "for i in range(1000):\n",
    "    X,y = generatePts(100)\n",
    "    s = svm.SVC(kernel = 'rbf', gamma=1.5, C=1000000000000)\n",
    "    s.fit(X,y)\n",
    "    scores.append(s.score(X,y))"
   ]
  },
  {
   "cell_type": "code",
   "execution_count": 77,
   "metadata": {
    "collapsed": false
   },
   "outputs": [
    {
     "name": "stdout",
     "output_type": "stream",
     "text": [
      "E_in not 0: 0  times out of 1000\n"
     ]
    }
   ],
   "source": [
    "print(\"E_in not 0: \" + str(1000 - scores.count(1)) + \"  times out of 1000\")"
   ]
  },
  {
   "cell_type": "code",
   "execution_count": 78,
   "metadata": {
    "collapsed": false,
    "scrolled": true
   },
   "outputs": [
    {
     "data": {
      "image/png": "[encoded data removed]",
      "text/plain": [
       "<matplotlib.figure.Figure at 0x119b0c748>"
      ]
     },
     "metadata": {},
     "output_type": "display_data"
    }
   ],
   "source": [
    "for i in range(len(X)):\n",
    "    if y[i] == 1:\n",
    "        plt.plot(X[i][0],X[i][1], 'g^')\n",
    "    else:\n",
    "        plt.plot(X[i][0],X[i][1], 'ro')\n",
    "\n"
   ]
  },
  {
   "cell_type": "code",
   "execution_count": 7,
   "metadata": {
    "collapsed": true
   },
   "outputs": [],
   "source": [
    "def rbf(gamma,x,u):\n",
    "    return np.exp(-gamma * np.linalg.norm(x-u)**2)"
   ]
  },
  {
   "cell_type": "code",
   "execution_count": 8,
   "metadata": {
    "collapsed": false
   },
   "outputs": [],
   "source": [
    "def rbf_h(x,centers,w, gamma):\n",
    "    result = 0.0\n",
    "    for i in range (len(centers)):\n",
    "        result += w[i] * rbf(gamma,x,centers[i])\n",
    "    \n",
    "    return np.sign(result)"
   ]
  },
  {
   "cell_type": "code",
   "execution_count": 106,
   "metadata": {
    "collapsed": false
   },
   "outputs": [],
   "source": [
    "K=9\n",
    "gamma = 1.5\n",
    "svm_wins = 0\n",
    "bad = False\n",
    "runs = 0\n",
    "for j in range(1000):\n",
    "    bad = False\n",
    "    X,y = generatePts(100)\n",
    "    centers = [np.array([ran.uniform(-1,1), ran.uniform(-1,1)]) for i in range(K)]\n",
    "    prev = [np.array([0, 0]) for i in range(K)]\n",
    "    while True:\n",
    "        changed = []\n",
    "        for i in range(len(centers)):\n",
    "            changed.append(prev[i][0] != centers[i][0])\n",
    "            changed.append(prev[i][1] != centers[i][1])\n",
    "\n",
    "        if not True in changed:\n",
    "            break\n",
    "\n",
    "\n",
    "\n",
    "\n",
    "        clusters = [[] for i in range(K)]\n",
    "        for pt in X:\n",
    "            best_index = 0\n",
    "            best = np.linalg.norm(pt-centers[0])\n",
    "            for i in range(1, len(centers)):\n",
    "                dist = np.linalg.norm(pt-centers[i])\n",
    "                if dist < best:\n",
    "                    best_index = i\n",
    "                    best = dist\n",
    "            clusters[best_index].append(pt)\n",
    "\n",
    "        if clusters.count([])>=1:\n",
    "            bad = True\n",
    "            break \n",
    "\n",
    "        prev = [center for center in centers]\n",
    "\n",
    "\n",
    "        for i in range(len(clusters)):\n",
    "            tot = np.array([sum(i) for i in zip(*clusters[i])])\n",
    "            av = tot / len(clusters[i])\n",
    "\n",
    "            centers[i] = av\n",
    "\n",
    "    PHI = np.matrix([[rbf(gamma,x,u) for u in centers] for x in X])\n",
    "\n",
    "    pi = np.linalg.pinv(PHI)\n",
    "    w = np.array(pi @ y)[0]\n",
    "    \n",
    "    s = svm.SVC(kernel = 'rbf', gamma=1.5, C=1000000000000)\n",
    "    s.fit(X,y)\n",
    "    \n",
    "    if s.score(X,y) != 1.0:\n",
    "        break\n",
    "    \n",
    "    if not bad:\n",
    "        X_test, y_test = generatePts(1000)\n",
    "        l_results = [rbf_h(X_test[i], centers, w, gamma) == y_test[i] for i in range(len(X_test))]\n",
    "        l_score = l_results.count(True) / len(l_results)\n",
    "        svm_score = s.score(X_test,y_test)\n",
    "\n",
    "        if svm_score > l_score: svm_wins += 1\n",
    "\n",
    "        runs +=1\n"
   ]
  },
  {
   "cell_type": "code",
   "execution_count": 107,
   "metadata": {
    "collapsed": false
   },
   "outputs": [
    {
     "data": {
      "text/plain": [
       "(812, 919)"
      ]
     },
     "execution_count": 107,
     "metadata": {},
     "output_type": "execute_result"
    }
   ],
   "source": [
    "svm_wins, runs"
   ]
  },
  {
   "cell_type": "code",
   "execution_count": 103,
   "metadata": {
    "collapsed": true
   },
   "outputs": [],
   "source": [
    "K=12\n",
    "gamma = 1.5\n",
    "svm_wins = 0\n",
    "bad = False\n",
    "runs = 0\n",
    "for j in range(1000):\n",
    "    bad = False\n",
    "    X,y = generatePts(100)\n",
    "    centers = [np.array([ran.uniform(-1,1), ran.uniform(-1,1)]) for i in range(K)]\n",
    "    prev = [np.array([0, 0]) for i in range(K)]\n",
    "    while True:\n",
    "        changed = []\n",
    "        for i in range(len(centers)):\n",
    "            changed.append(prev[i][0] != centers[i][0])\n",
    "            changed.append(prev[i][1] != centers[i][1])\n",
    "\n",
    "        if not True in changed:\n",
    "            break\n",
    "\n",
    "\n",
    "\n",
    "\n",
    "        clusters = [[] for i in range(K)]\n",
    "        for pt in X:\n",
    "            best_index = 0\n",
    "            best = np.linalg.norm(pt-centers[0])\n",
    "            for i in range(1, len(centers)):\n",
    "                dist = np.linalg.norm(pt-centers[i])\n",
    "                if dist < best:\n",
    "                    best_index = i\n",
    "                    best = dist\n",
    "            clusters[best_index].append(pt)\n",
    "\n",
    "        if clusters.count([])>=1:\n",
    "            bad = True\n",
    "            break \n",
    "\n",
    "        prev = [center for center in centers]\n",
    "\n",
    "\n",
    "        for i in range(len(clusters)):\n",
    "            tot = np.array([sum(i) for i in zip(*clusters[i])])\n",
    "            av = tot / len(clusters[i])\n",
    "\n",
    "            centers[i] = av\n",
    "\n",
    "    PHI = np.matrix([[rbf(gamma,x,u) for u in centers] for x in X])\n",
    "\n",
    "    pi = np.linalg.pinv(PHI)\n",
    "    w = np.array(pi @ y)[0]\n",
    "    \n",
    "    s = svm.SVC(kernel = 'rbf', gamma=1.5, C=1000000000000)\n",
    "    s.fit(X,y)\n",
    "    \n",
    "    if s.score(X,y) != 1.0:\n",
    "        break\n",
    "    \n",
    "    if not bad:\n",
    "        X_test, y_test = generatePts(1000)\n",
    "        l_results = [rbf_h(X_test[i], centers, w, gamma) == y_test[i] for i in range(len(X_test))]\n",
    "        l_score = l_results.count(True) / len(l_results)\n",
    "        svm_score = s.score(X_test,y_test)\n",
    "\n",
    "        if svm_score > l_score: svm_wins += 1\n",
    "\n",
    "        runs +=1\n",
    "\n"
   ]
  },
  {
   "cell_type": "code",
   "execution_count": 104,
   "metadata": {
    "collapsed": false
   },
   "outputs": [
    {
     "data": {
      "text/plain": [
       "(626, 791)"
      ]
     },
     "execution_count": 104,
     "metadata": {},
     "output_type": "execute_result"
    }
   ],
   "source": [
    "svm_wins, runs"
   ]
  },
  {
   "cell_type": "code",
   "execution_count": 2,
   "metadata": {
    "collapsed": true
   },
   "outputs": [],
   "source": [
    "def do_lloyds(X,y,K,gamma):\n",
    "    centers = [np.array([ran.uniform(-1,1), ran.uniform(-1,1)]) for i in range(K)]\n",
    "    prev = [np.array([0, 0]) for i in range(K)]\n",
    "    while True:\n",
    "        changed = []\n",
    "        for i in range(len(centers)):\n",
    "            changed.append(prev[i][0] != centers[i][0])\n",
    "            changed.append(prev[i][1] != centers[i][1])\n",
    "\n",
    "        if not True in changed:\n",
    "            break\n",
    "\n",
    "\n",
    "\n",
    "\n",
    "        clusters = [[] for i in range(K)]\n",
    "        for pt in X:\n",
    "            best_index = 0\n",
    "            best = np.linalg.norm(pt-centers[0])\n",
    "            for i in range(1, len(centers)):\n",
    "                dist = np.linalg.norm(pt-centers[i])\n",
    "                if dist < best:\n",
    "                    best_index = i\n",
    "                    best = dist\n",
    "            clusters[best_index].append(pt)\n",
    "\n",
    "        if clusters.count([])>=1:\n",
    "            return\n",
    "\n",
    "        prev = [center for center in centers]\n",
    "\n",
    "\n",
    "        for i in range(len(clusters)):\n",
    "            tot = np.array([sum(i) for i in zip(*clusters[i])])\n",
    "            av = tot / len(clusters[i])\n",
    "\n",
    "            centers[i] = av\n",
    "\n",
    "    PHI = np.matrix([[rbf(gamma,x,u) for u in centers] for x in X])\n",
    "\n",
    "    pi = np.linalg.pinv(PHI)\n",
    "    w = np.array(pi @ y)[0]\n",
    "    \n",
    "    \n",
    "    l_results_in = [rbf_h(X[i], centers, w, gamma) == y[i] for i in range(len(X))]\n",
    "    l_score_in = l_results_in.count(True) / len(l_results_in)\n",
    "    \n",
    "    X_test, y_test = generatePts(1000)\n",
    "    l_results_out = [rbf_h(X_test[i], centers, w, gamma) == y_test[i] for i in range(len(X_test))]\n",
    "    l_score_out = l_results_out.count(True) / len(l_results_out)\n",
    "    \n",
    "    return 1-l_score_in, 1-l_score_out"
   ]
  },
  {
   "cell_type": "code",
   "execution_count": 131,
   "metadata": {
    "collapsed": false
   },
   "outputs": [],
   "source": [
    "k_9 = []\n",
    "k_12 = []\n",
    "for i in range(100):\n",
    "    X,y = generatePts(100)\n",
    "    k_9r = do_lloyds(X,y,9,1.5)\n",
    "    k_12r = do_lloyds(X,y,12,1.5)\n",
    "    if type(k_9r) == tuple and type(k_12r) == tuple:\n",
    "        k_9.append(k_9r)\n",
    "        k_12.append(k_12r)"
   ]
  },
  {
   "cell_type": "code",
   "execution_count": 135,
   "metadata": {
    "collapsed": false
   },
   "outputs": [],
   "source": [
    "a = [0,'a']\n",
    "b = [0,'b']\n",
    "c = [0, 'c']\n",
    "d = [0, 'd']\n",
    "e = [0, 'e']\n",
    "\n",
    "for i in range(len(k_9)):\n",
    "    if k_9[i][0] > k_12[i][0] and k_9[i][1] < k_12[i][1]:\n",
    "        a[0] += 1\n",
    "    elif k_9[i][0] < k_12[i][0] and k_9[i][1] > k_12[i][1]:\n",
    "        b[0] += 1\n",
    "    elif k_9[i][0] < k_12[i][0] and k_9[i][1] < k_12[i][1]:\n",
    "        c[0] += 1\n",
    "    elif k_9[i][0] > k_12[i][0] and k_9[i][1] > k_12[i][1]:\n",
    "        d[0] += 1\n",
    "    elif k_9[i][0] == k_12[i][0] and k_9[i][1] == k_12[i][1]:\n",
    "        e[0] += 1"
   ]
  },
  {
   "cell_type": "code",
   "execution_count": 137,
   "metadata": {
    "collapsed": false
   },
   "outputs": [
    {
     "data": {
      "text/plain": [
       "'d'"
      ]
     },
     "execution_count": 137,
     "metadata": {},
     "output_type": "execute_result"
    }
   ],
   "source": [
    "max(a,b,c,d,e)[1]"
   ]
  },
  {
   "cell_type": "code",
   "execution_count": 141,
   "metadata": {
    "collapsed": false
   },
   "outputs": [],
   "source": [
    "g1 = []\n",
    "g2 = []\n",
    "\n",
    "for i in range(100):\n",
    "    X,y = generatePts(100)\n",
    "    g1r = do_lloyds(X,y,9,1.5)\n",
    "    g2r = do_lloyds(X,y,9,2)\n",
    "    if type(g1r) == tuple and type(g2r) == tuple:\n",
    "        g1.append(g1r)\n",
    "        g2.append(g2r)"
   ]
  },
  {
   "cell_type": "code",
   "execution_count": 142,
   "metadata": {
    "collapsed": true
   },
   "outputs": [],
   "source": [
    "a = [0,'a']\n",
    "b = [0,'b']\n",
    "c = [0, 'c']\n",
    "d = [0, 'd']\n",
    "e = [0, 'e']\n",
    "\n",
    "for i in range(len(k_9)):\n",
    "    if g1[i][0] > g2[i][0] and g1[i][1] < g2[i][1]:\n",
    "        a[0] += 1\n",
    "    elif g1[i][0] < g2[i][0] and g1[i][1] > g2[i][1]:\n",
    "        b[0] += 1\n",
    "    elif g1[i][0] < g2[i][0] and g1[i][1] < g2[i][1]:\n",
    "        c[0] += 1\n",
    "    elif g1[i][0] > g2[i][0] and g1[i][1] > g2[i][1]:\n",
    "        d[0] += 1\n",
    "    elif g1[i][0] == g2[i][0] and g1[i][1] == g2[i][1]:\n",
    "        e[0] += 1"
   ]
  },
  {
   "cell_type": "code",
   "execution_count": 143,
   "metadata": {
    "collapsed": false
   },
   "outputs": [
    {
     "data": {
      "text/plain": [
       "'c'"
      ]
     },
     "execution_count": 143,
     "metadata": {},
     "output_type": "execute_result"
    }
   ],
   "source": [
    "max(a,b,c,d,e)[1]"
   ]
  },
  {
   "cell_type": "code",
   "execution_count": 9,
   "metadata": {
    "collapsed": false
   },
   "outputs": [],
   "source": [
    "e_ins = []\n",
    "for i in range(1000): \n",
    "    X,y = generatePts(100)\n",
    "    result = do_lloyds(X,y,9,1.5)\n",
    "    if type(result) == tuple:\n",
    "        e_ins.append(result[0])"
   ]
  },
  {
   "cell_type": "code",
   "execution_count": 10,
   "metadata": {
    "collapsed": false
   },
   "outputs": [
    {
     "data": {
      "text/plain": [
       "23"
      ]
     },
     "execution_count": 10,
     "metadata": {},
     "output_type": "execute_result"
    }
   ],
   "source": [
    "e_ins.count(0)"
   ]
  },
  {
   "cell_type": "code",
   "execution_count": 11,
   "metadata": {
    "collapsed": false
   },
   "outputs": [
    {
     "data": {
      "text/plain": [
       "913"
      ]
     },
     "execution_count": 11,
     "metadata": {},
     "output_type": "execute_result"
    }
   ],
   "source": [
    "len(e_ins)"
   ]
  },
  {
   "cell_type": "code",
   "execution_count": null,
   "metadata": {
    "collapsed": true
   },
   "outputs": [],
   "source": []
  }
 ],
 "metadata": {
  "kernelspec": {
   "display_name": "Python 3",
   "language": "python",
   "name": "python3"
  },
  "language_info": {
   "codemirror_mode": {
    "name": "ipython",
    "version": 3
   },
   "file_extension": ".py",
   "mimetype": "text/x-python",
   "name": "python",
   "nbconvert_exporter": "python",
   "pygments_lexer": "ipython3",
   "version": "3.6.0"
  }
 },
 "nbformat": 4,
 "nbformat_minor": 2
}
