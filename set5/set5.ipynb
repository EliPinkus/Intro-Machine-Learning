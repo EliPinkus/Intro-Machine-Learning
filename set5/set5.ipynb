{
 "cells": [
  {
   "cell_type": "code",
   "execution_count": 2,
   "metadata": {
    "collapsed": true
   },
   "outputs": [],
   "source": [
    "import numpy as np\n",
    "import random as ran"
   ]
  },
  {
   "cell_type": "code",
   "execution_count": 3,
   "metadata": {
    "collapsed": false
   },
   "outputs": [],
   "source": [
    "w = [1,1]\n",
    "r = 0.1\n",
    "\n",
    "E = lambda u,v: (u*np.e**v-2*v*np.e**(-u))**2\n",
    "dE_u = lambda u,v: 2*(np.e**v+2*v*np.e**(-u))*(u*np.e**v-2*v*np.e**(-u))\n",
    "dE_v = lambda u,v: 2*(u*np.e**v-2*v*np.e**(-u))*(u*np.e**v-2*np.e**(-u))"
   ]
  },
  {
   "cell_type": "code",
   "execution_count": 4,
   "metadata": {
    "collapsed": false
   },
   "outputs": [],
   "source": [
    "\n",
    "iters = 0\n",
    "e = E(w[0],w[1])\n",
    "while e > 10**(-14):\n",
    "    w0 = w[0] - r*dE_u(w[0],w[1])\n",
    "    w1 = w[1] - r*dE_v(w[0],w[1])\n",
    "\n",
    "    w[0] = w0\n",
    "    w[1] = w1\n",
    "\n",
    "\n",
    "    e = E(w[0],w[1])\n",
    "    iters += 1"
   ]
  },
  {
   "cell_type": "code",
   "execution_count": 5,
   "metadata": {
    "collapsed": false
   },
   "outputs": [
    {
     "name": "stdout",
     "output_type": "stream",
     "text": [
      "it took : 10 iterations\n"
     ]
    }
   ],
   "source": [
    "print ('it took : ' + str(iters) + ' iterations')"
   ]
  },
  {
   "cell_type": "code",
   "execution_count": 6,
   "metadata": {
    "collapsed": false
   },
   "outputs": [
    {
     "data": {
      "text/plain": [
       "(0.04473629039778207, 0.023958714099141746)"
      ]
     },
     "execution_count": 6,
     "metadata": {},
     "output_type": "execute_result"
    }
   ],
   "source": [
    "(w[0],w[1])"
   ]
  },
  {
   "cell_type": "code",
   "execution_count": 7,
   "metadata": {
    "collapsed": false
   },
   "outputs": [],
   "source": [
    "\n",
    "\n",
    "w = [1,1]\n",
    "e = E(w[0],w[1])\n",
    "\n",
    "\n",
    "for i in range(15):\n",
    "    # move only in the u direction\n",
    "    w0 = w[0] - r*dE_u(w[0],w[1])\n",
    "\n",
    "    w[0] = w0\n",
    "    \n",
    "    # move only in the v direction\n",
    "    w1 = w[1] - r*dE_v(w[0],w[1])\n",
    "    w[1] = w1\n",
    "    \n",
    "\n",
    "    e = E(w[0],w[1])"
   ]
  },
  {
   "cell_type": "code",
   "execution_count": 8,
   "metadata": {
    "collapsed": false
   },
   "outputs": [
    {
     "name": "stdout",
     "output_type": "stream",
     "text": [
      "error after 15 iterations is: 0.13981379199615324\n"
     ]
    }
   ],
   "source": [
    "print ('error after 15 iterations is: ' + str(e))"
   ]
  },
  {
   "cell_type": "code",
   "execution_count": 9,
   "metadata": {
    "collapsed": true
   },
   "outputs": [],
   "source": [
    "def getLine():\n",
    "    (x1, y1) = (ran.uniform(-1,1), ran.uniform(-1,1))\n",
    "    (x2, y2) = (ran.uniform(-1,1), ran.uniform(-1,1))\n",
    "    line = lambda x:(y2-y1)/(x2-x1)*(x-x1)\n",
    "    return line"
   ]
  },
  {
   "cell_type": "code",
   "execution_count": 10,
   "metadata": {
    "collapsed": false
   },
   "outputs": [],
   "source": [
    "def labelPts(N, line):\n",
    "    pts = []\n",
    "    \n",
    "    for i in range(N):\n",
    "        (x1,x2) = ran.uniform(-1,1), ran.uniform(-1,1)\n",
    "        \n",
    "        pts.append([np.array([1,x1,x2,]),np.sign(x2-line(x1))])\n",
    "    \n",
    "    return pts"
   ]
  },
  {
   "cell_type": "code",
   "execution_count": 11,
   "metadata": {
    "collapsed": false
   },
   "outputs": [],
   "source": [
    "def ptGradient(w, pt):\n",
    "    exp = -pt[1]*w.dot(pt[0])\n",
    "    return -(pt[1]*pt[0]/(1+np.e**(exp)))\n",
    "\n",
    "def ptCrossEntropyError(w, pt):\n",
    "    exp = -pt[1]*w.dot(pt[0])\n",
    "    return np.log(1+ np.e**(-exp))"
   ]
  },
  {
   "cell_type": "code",
   "execution_count": 12,
   "metadata": {
    "collapsed": false
   },
   "outputs": [],
   "source": [
    "\n",
    "r = 0.01\n",
    "\n",
    "\n",
    "\n",
    "all_epoc = []\n",
    "all_E_in = []\n",
    "all_E_out = []\n",
    "for i in range(100):\n",
    "    line = getLine()\n",
    "    pts = labelPts(100, line)\n",
    "    epoc_end_w = np.array([0,0,0])\n",
    "    epoc = 0\n",
    "    w = np.array([0,0,0])\n",
    "    while True:\n",
    "        options = list(range(len(pts)))\n",
    "\n",
    "        while len(options)>0:\n",
    "            choice = ran.choice(options)\n",
    "            options.remove(choice)\n",
    "\n",
    "            pt = pts[choice]\n",
    "\n",
    "            grad = ptGradient(w,pt)\n",
    "            w = w + r * grad\n",
    "        diff = epoc_end_w - w\n",
    "        mag = np.sqrt(diff.dot(diff))\n",
    "        if mag < 0.01:\n",
    "            break\n",
    "        epoc_end_w = w\n",
    "\n",
    "        epoc += 1\n",
    "\n",
    "    all_epoc.append(epoc)\n",
    "    # get E_in\n",
    "    E_in=0\n",
    "    for pt in pts:\n",
    "        E_in += ptCrossEntropyError(w,pt)\n",
    "        \n",
    "    E_in /= float(len(pts))\n",
    "    all_E_in.append(E_in)\n",
    "\n",
    "    \n",
    "    # approx E_out\n",
    "    test_pts = labelPts(10000, line)\n",
    "    E_out = 0.0\n",
    "    for pt in test_pts:\n",
    "        E_out += ptCrossEntropyError(w,pt)\n",
    "\n",
    "    E_out /= float(len(test_pts))\n",
    "    all_E_out.append(E_out)\n",
    "    \n",
    "    \n"
   ]
  },
  {
   "cell_type": "code",
   "execution_count": 13,
   "metadata": {
    "collapsed": false
   },
   "outputs": [
    {
     "name": "stdout",
     "output_type": "stream",
     "text": [
      "average approx. E_out is: 0.10063694652\n"
     ]
    }
   ],
   "source": [
    "print(\"average approx. E_out is: \" + str(np.mean(all_E_out)))"
   ]
  },
  {
   "cell_type": "code",
   "execution_count": 14,
   "metadata": {
    "collapsed": false
   },
   "outputs": [
    {
     "name": "stdout",
     "output_type": "stream",
     "text": [
      "average epocs: 333.21\n"
     ]
    }
   ],
   "source": [
    "print(\"average epocs: \" + str(np.mean(all_epoc)))"
   ]
  },
  {
   "cell_type": "code",
   "execution_count": null,
   "metadata": {
    "collapsed": true
   },
   "outputs": [],
   "source": []
  }
 ],
 "metadata": {
  "kernelspec": {
   "display_name": "Python 3",
   "language": "python",
   "name": "python3"
  },
  "language_info": {
   "codemirror_mode": {
    "name": "ipython",
    "version": 3
   },
   "file_extension": ".py",
   "mimetype": "text/x-python",
   "name": "python",
   "nbconvert_exporter": "python",
   "pygments_lexer": "ipython3",
   "version": "3.6.0"
  }
 },
 "nbformat": 4,
 "nbformat_minor": 2
}
