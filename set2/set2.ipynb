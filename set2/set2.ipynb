{
 "cells": [
  {
   "cell_type": "code",
   "execution_count": 2,
   "metadata": {
    "collapsed": true
   },
   "outputs": [],
   "source": [
    "import numpy as np\n",
    "import matplotlib.pyplot as plt\n",
    "import random as ran\n",
    "import scipy.integrate as integrate\n",
    "from sklearn.linear_model import LinearRegression\n",
    "%matplotlib inline"
   ]
  },
  {
   "cell_type": "code",
   "execution_count": 3,
   "metadata": {
    "collapsed": true
   },
   "outputs": [],
   "source": [
    "# Toss coin N times and return frequency of heads\n",
    "def tossCoin(N):\n",
    "    results = []\n",
    "    for i in range(0,N):\n",
    "        results.append(ran.choice([0,1]))\n",
    "    return np.mean(results)\n",
    "        \n",
    "    "
   ]
  },
  {
   "cell_type": "code",
   "execution_count": 4,
   "metadata": {
    "collapsed": false
   },
   "outputs": [
    {
     "data": {
      "text/plain": [
       "0.49902600000000003"
      ]
     },
     "execution_count": 4,
     "metadata": {},
     "output_type": "execute_result"
    }
   ],
   "source": [
    "# Toss the coin for fun\n",
    "tossCoin(1000000)"
   ]
  },
  {
   "cell_type": "code",
   "execution_count": 5,
   "metadata": {
    "collapsed": true
   },
   "outputs": [],
   "source": [
    "# Toss 'coins' coins N times and return the interesting coins in a 3-tuple\n",
    "def getInterestCoins(coins, N):\n",
    "    results = []\n",
    "    for i in range(coins):\n",
    "        results.append(tossCoin(N))\n",
    "    return (results[0], ran.choice(results), min(results))"
   ]
  },
  {
   "cell_type": "code",
   "execution_count": 11,
   "metadata": {
    "collapsed": false
   },
   "outputs": [],
   "source": [
    "c1 = []\n",
    "c_ran = []\n",
    "c_min = []\n",
    "for i in range(100000):\n",
    "    trial = getInterestCoins(1000, 10)\n",
    "    c1.append(trial[0])\n",
    "    c_ran.append(trial[1])\n",
    "    c_min.append(trial[2])"
   ]
  },
  {
   "cell_type": "code",
   "execution_count": 10,
   "metadata": {
    "collapsed": false
   },
   "outputs": [
    {
     "name": "stdout",
     "output_type": "stream",
     "text": [
      "Average of c1: 0.499788\n",
      "Average of c_ran: 0.499046\n",
      "Average of c_min: 0.037341\n"
     ]
    }
   ],
   "source": [
    "print(\"Average of c1: \" + str(np.mean(c1)))\n",
    "\n",
    "print(\"Average of c_ran: \" + str(np.mean(c_ran)))\n",
    "\n",
    "print(\"Average of c_min: \" + str(np.mean(c_min)))"
   ]
  },
  {
   "cell_type": "code",
   "execution_count": 7,
   "metadata": {
    "collapsed": true
   },
   "outputs": [],
   "source": [
    "# make a line between two random points\n",
    "def getLine():\n",
    "    (x1, y1) = (ran.uniform(-1,1), ran.uniform(-1,1))\n",
    "    (x2, y2) = (ran.uniform(-1,1), ran.uniform(-1,1))\n",
    "    line = lambda x:(y2-y1)/(x2-x1)*(x-x1)\n",
    "    return line"
   ]
  },
  {
   "cell_type": "code",
   "execution_count": 8,
   "metadata": {
    "collapsed": true
   },
   "outputs": [],
   "source": [
    "# Generate N unlabeled test pts\n",
    "def generatePts(N):\n",
    "    pts = []\n",
    "    for i in range(0,N):\n",
    "        pt = ran.uniform(-1,1), ran.uniform(-1,1)\n",
    "        pts.append(pt)\n",
    "    return pts"
   ]
  },
  {
   "cell_type": "code",
   "execution_count": 9,
   "metadata": {
    "collapsed": true
   },
   "outputs": [],
   "source": [
    "# label and return a given set of points\n",
    "def labelPts(pts, line, noise = False):\n",
    "    labeled_pts = []\n",
    "    for pt in pts:\n",
    "        if pt[1] > line(pt[0]):\n",
    "            labeled_pts.append([1, pt[0], pt[1], 1])\n",
    "        else:\n",
    "            labeled_pts.append([1, pt[0], pt[1], -1])\n",
    "    \n",
    "    if noise:\n",
    "        for pt in labeled_pts:\n",
    "            # 1/10 chance we flip\n",
    "            if ran.choice(range(10)) == 1:\n",
    "                pt[3] = -pt[3]\n",
    "    return labeled_pts"
   ]
  },
  {
   "cell_type": "code",
   "execution_count": 10,
   "metadata": {
    "collapsed": false
   },
   "outputs": [],
   "source": [
    "# runs regression on given pts classified by given target\n",
    "# if testing is on it returns (w, E_in, E_out)\n",
    "# if testing is off it returns w, line of best fit\n",
    "def doRegression(pts, target, graph = True, test = True):\n",
    "    # generate points labeled according to the target function\n",
    "    line = target\n",
    "    labeled_pts = labelPts(pts, line)\n",
    "    \n",
    "    \n",
    "    # format data for sklearn package\n",
    "    x = []\n",
    "    y = []\n",
    "    for pt in labeled_pts:\n",
    "        x.append([pt[1],pt[2]])\n",
    "        y.append(pt[3])\n",
    "        \n",
    "    # perform regression with sklearn\n",
    "    lm = LinearRegression(fit_intercept=True)\n",
    "    lm.fit(x,y)\n",
    "    \n",
    "    # compile resulting w \n",
    "    w = [lm.intercept_, lm.coef_[0],lm.coef_[1]]\n",
    "    \n",
    "    # line of best fit:\n",
    "    rline = lambda x1:-(w[0]+w[1]*x1)/w[2]\n",
    "    \n",
    "    # graph things if asked\n",
    "    if graph == True:\n",
    "        X = np.linspace(-1,1,1000)\n",
    "        y = line(X)\n",
    "        ry = rline(X)\n",
    "        plt.ylim(-1,1)\n",
    "        plt.xlim(-1,1)\n",
    "        plt.plot(X,y, color = \"blue\", label = \"target function\")\n",
    "        plt.plot(X,ry, color = \"red\", label = \"regression line\")\n",
    "        plt.legend()\n",
    "        for pt in labeled_pts:\n",
    "            if pt[3] == 1:\n",
    "                plt.plot(pt[1],pt[2], 'g^')\n",
    "            else:\n",
    "                plt.plot(pt[1],pt[2], 'r^')\n",
    "                \n",
    "                \n",
    "    # approximate E_in and E_out if testing is requested\n",
    "    if test:\n",
    "        test_pts = labelPts(generatePts(1000), line)\n",
    "        \n",
    "        \n",
    "        E_in = 0\n",
    "        for pt in labeled_pts:\n",
    "            if np.sign(w[0]+w[1]*pt[1]+w[2]*pt[2]) != pt[3]:\n",
    "                E_in += 1\n",
    "        E_in /= float(len(labeled_pts))\n",
    "        \n",
    "        E_out = 0\n",
    "        for pt in test_pts:\n",
    "            if np.sign(w[0]+w[1]*pt[1]+w[2]*pt[2]) != pt[3]:\n",
    "                E_out += 1\n",
    "                \n",
    "        E_out /= 1000.0\n",
    "        return w, E_in, E_out\n",
    "        \n",
    "    \n",
    "    return w, rline\n",
    "    "
   ]
  },
  {
   "cell_type": "code",
   "execution_count": 11,
   "metadata": {
    "collapsed": false
   },
   "outputs": [
    {
     "data": {
      "text/plain": [
       "([-0.37371213847165796, 0.64008593379375134, 1.2481589686929375], 0.0, 0.017)"
      ]
     },
     "execution_count": 11,
     "metadata": {},
     "output_type": "execute_result"
    },
    {
     "data": {
      "image/png": "[encoded data removed]",
      "text/plain": [
       "<matplotlib.figure.Figure at 0x118f2af98>"
      ]
     },
     "metadata": {},
     "output_type": "display_data"
    }
   ],
   "source": [
    "# run a regression for fun and eye test\n",
    "doRegression(generatePts(100), getLine())"
   ]
  },
  {
   "cell_type": "code",
   "execution_count": 12,
   "metadata": {
    "collapsed": false
   },
   "outputs": [
    {
     "name": "stdout",
     "output_type": "stream",
     "text": [
      "AVERAGE VALUES FOR 1000 ATTEMPTS:\n",
      "E_in: 0.03485\n",
      "E_out: 0.04404\n"
     ]
    }
   ],
   "source": [
    "# get E_in and approx E_out by random sampling\n",
    "E_ins = []\n",
    "E_outs = []\n",
    "for i in range(1000):\n",
    "    result = doRegression(generatePts(100),getLine(), graph = False)\n",
    "    \n",
    "    E_ins.append(result[1])\n",
    "    E_outs.append(result[2])\n",
    "\n",
    "E_in = np.mean(E_ins)\n",
    "E_out = np.mean(E_outs)\n",
    "\n",
    "\n",
    "print(\"AVERAGE VALUES FOR 1000 ATTEMPTS:\")\n",
    "print (\"E_in: \" + str(E_in))\n",
    "print(\"E_out: \" + str(E_out))"
   ]
  },
  {
   "cell_type": "code",
   "execution_count": 13,
   "metadata": {
    "collapsed": true
   },
   "outputs": [],
   "source": [
    "# run the PLA, graph if asked, test w/ 1000 pts if asked\n",
    "# sets w based on the result of regression on the points.\n",
    "# returns iterations required. If testing=True returns missed pts out of 1000 as well\n",
    "def doRegPLA(N, graph = True, test = True):\n",
    "    line = getLine()\n",
    "    pts = generatePts(N)\n",
    "    \n",
    "    # get starting w via regression\n",
    "    reg = doRegression(pts, line, test = False, graph = False)\n",
    "    w = reg[0]\n",
    "    rline = reg[1]\n",
    "    \n",
    "    if graph:\n",
    "        X = np.linspace(-1,1,1000)\n",
    "        ry = rline(X)\n",
    "        plt.plot(X,ry, color = 'purple', label = \"regression line\")\n",
    "    \n",
    "\n",
    "\n",
    "\n",
    "    labeled_pts = labelPts(pts, line)\n",
    "    \n",
    "            \n",
    "            \n",
    "    # Graph target function and labeled pts if we want\n",
    "    if graph == True:\n",
    "        X = np.linspace(-1,1,1000)\n",
    "        y = line(X)\n",
    "        plt.ylim(-1,1)\n",
    "        plt.xlim(-1,1)\n",
    "        plt.plot(X,y, label = \"target function\", color = \"blue\")\n",
    "        \n",
    "        for pt in labeled_pts:\n",
    "            if pt[3] == 1:\n",
    "                plt.plot(pt[1],pt[2], 'g^')\n",
    "            else:\n",
    "                plt.plot(pt[1],pt[2], 'r^')\n",
    "            \n",
    "    \n",
    "    mis_pts = []\n",
    "        \n",
    "    for pt in labeled_pts:\n",
    "        if np.sign(w[0]+w[1]*pt[1]+w[2]*pt[2]) != pt[3]:\n",
    "            mis_pts.append(pt)\n",
    "    \n",
    "    # begin perceptron iterations and count them\n",
    "    iters = 0\n",
    "    while len(mis_pts) is not 0:\n",
    "        # choose randoim missclasified point and update\n",
    "        pt = ran.choice(mis_pts)\n",
    "        \n",
    "        w[0] += pt[3]*pt[0]\n",
    "        w[1] += pt[3]*pt[1]\n",
    "        w[2] += pt[3]*pt[2]\n",
    "        \n",
    "        \n",
    "        # recheck for misclassified points\n",
    "        mis_pts = []\n",
    "        \n",
    "        for pt in labeled_pts:\n",
    "            if np.sign(w[0]+w[1]*pt[1]+w[2]*pt[2]) != pt[3]:\n",
    "                mis_pts.append(pt)\n",
    "        iters += 1\n",
    "        \n",
    "    pline = lambda x: -(x*w[1]+w[0])/w[2]\n",
    "\n",
    "\n",
    "    if graph == True:\n",
    "        xp = np.linspace(-1,1,1000)\n",
    "        yp = pline(xp)\n",
    "        plt.plot(xp, yp, \"yellow\", label = \"perceptron line\")\n",
    "        plt.legend()\n",
    "    \n",
    "    # if we want to test, we will test:\n",
    "    if test == True:\n",
    "        # generate and label 10000 test points according to f(x)\n",
    "        test_points = generatePts(1000)\n",
    "\n",
    "        labeled_test_pts = []\n",
    "        for pt in test_points:\n",
    "            if pt[1] > line(pt[0]):\n",
    "                labeled_test_pts.append([1, pt[0], pt[1], 1])\n",
    "            else:\n",
    "                labeled_test_pts.append([1, pt[0], pt[1], -1])\n",
    "\n",
    "        # count misclassified test points\n",
    "        mis_labeled_pts = []\n",
    "        for pt in labeled_test_pts:\n",
    "            if np.sign(w[0]+w[1]*pt[1]+w[2]*pt[2]) != pt[3]:\n",
    "                mis_labeled_pts.append(pt)\n",
    "    \n",
    "        return iters, len(mis_labeled_pts)\n",
    "    \n",
    "    return iters"
   ]
  },
  {
   "cell_type": "code",
   "execution_count": 14,
   "metadata": {
    "collapsed": false
   },
   "outputs": [
    {
     "data": {
      "text/plain": [
       "21"
      ]
     },
     "execution_count": 14,
     "metadata": {},
     "output_type": "execute_result"
    },
    {
     "data": {
      "image/png": "[encoded data removed]",
      "text/plain": [
       "<matplotlib.figure.Figure at 0x1190d1ef0>"
      ]
     },
     "metadata": {},
     "output_type": "display_data"
    }
   ],
   "source": [
    "# run the primed PLA for eye-test\n",
    "doRegPLA(10, test=False)"
   ]
  },
  {
   "cell_type": "code",
   "execution_count": 15,
   "metadata": {
    "collapsed": false
   },
   "outputs": [
    {
     "name": "stdout",
     "output_type": "stream",
     "text": [
      "average Iterations: 4.214\n"
     ]
    }
   ],
   "source": [
    "# average iterations over 1000 PLA runs\n",
    "iters = []\n",
    "for i in range(1000):\n",
    "    iters.append(doRegPLA(10, graph = False, test = False))\n",
    "\n",
    "\n",
    "print(\"average Iterations: \" + str(np.mean(iters)))"
   ]
  },
  {
   "cell_type": "code",
   "execution_count": 124,
   "metadata": {
    "collapsed": false
   },
   "outputs": [],
   "source": [
    "def doReg(data, graph = True, test = True):\n",
    "    # format data for sklearn package\n",
    "    x = []\n",
    "    y = []\n",
    "    for pt in data:\n",
    "        x.append(pt[1:len(pt)-1])\n",
    "        y.append(pt[len(pt)-1])\n",
    "    \n",
    "    \n",
    "    lm = LinearRegression(fit_intercept=True)\n",
    "    lm.fit(x,y)\n",
    "    \n",
    "    w = []\n",
    "    w.append(lm.intercept_)\n",
    "    coef = lm.coef_\n",
    "    for i in range(len(coef)):\n",
    "        w.append(coef[i])\n",
    "        \n",
    "    # w = [lm.intercept_, lm.coef_[0],lm.coef_[1]]\n",
    "    rline = lambda x1:-(w[0]+w[1]*x1)/w[2]\n",
    "    \n",
    "    if graph:\n",
    "        for pt in data:\n",
    "            if pt[len(pt)-1] == 1:\n",
    "                plt.plot(pt[1],pt[2], 'g^')\n",
    "            else:\n",
    "                plt.plot(pt[1],pt[2], 'r^')\n",
    "                \n",
    "        X = np.linspace(-1,1,1000)\n",
    "        ry = rline(X)\n",
    "        plt.ylim(-1,1)\n",
    "        plt.xlim(-1,1)\n",
    "        plt.plot(X,ry, color = \"magenta\", label = \"regression line\")\n",
    "        plt.legend()\n",
    "    \n",
    "    if test:\n",
    "        E_in = 0\n",
    "        for x in data:\n",
    "            prod = 0\n",
    "            for i in range(len(w)):\n",
    "                prod += x[i]*w[i]\n",
    "            if np.sign(prod) != x[len(x)-1]:\n",
    "                E_in += 1\n",
    "        E_in /= float(len(data))\n",
    "        \n",
    "        return w, E_in\n",
    "    return w\n",
    "        \n",
    "        \n",
    "    \n",
    "        "
   ]
  },
  {
   "cell_type": "code",
   "execution_count": 125,
   "metadata": {
    "collapsed": false
   },
   "outputs": [
    {
     "data": {
      "text/plain": [
       "([0.029624295381474857, -0.023362837885775482, -0.053256269705368689], 0.56)"
      ]
     },
     "execution_count": 125,
     "metadata": {},
     "output_type": "execute_result"
    },
    {
     "data": {
      "image/png": "[encoded data removed]",
      "text/plain": [
       "<matplotlib.figure.Figure at 0x11a72f3c8>"
      ]
     },
     "metadata": {},
     "output_type": "display_data"
    }
   ],
   "source": [
    "# set target function and label pts with simulated noise\n",
    "# do a regression for eye-test\n",
    "\n",
    "target = lambda x1, x2: np.sign(x1**2+x2**2-0.6)\n",
    "raw = generatePts(1000)\n",
    "data = []\n",
    "for x in raw:\n",
    "    data.append([1, x[0], x[1], target(x[0],x[1])])\n",
    "\n",
    "for x in data:\n",
    "    if ran.choice(range(10)) == 1:\n",
    "        x[3] = -x[3]\n",
    "doReg(data, graph = True)"
   ]
  },
  {
   "cell_type": "code",
   "execution_count": 126,
   "metadata": {
    "collapsed": false
   },
   "outputs": [],
   "source": [
    "# average E_in over 1000 runs for non transformed data\n",
    "E_ins = []\n",
    "for i in range(1000):\n",
    "    target = lambda x1, x2: np.sign(x1**2+x2**2-0.6)\n",
    "    raw = generatePts(1000)\n",
    "    data = []\n",
    "    for x in raw:\n",
    "        data.append([1, x[0], x[1], target(x[0],x[1])])\n",
    "\n",
    "    for x in data:\n",
    "        if ran.choice(range(10)) == 1:\n",
    "            x[3] = -x[3]\n",
    "    E_ins.append(doReg(data, graph = False)[1])"
   ]
  },
  {
   "cell_type": "code",
   "execution_count": 127,
   "metadata": {
    "collapsed": false
   },
   "outputs": [
    {
     "name": "stdout",
     "output_type": "stream",
     "text": [
      "average E_in: 0.505405\n"
     ]
    }
   ],
   "source": [
    "print(\"average E_in: \" + str(np.mean(E_ins)))"
   ]
  },
  {
   "cell_type": "code",
   "execution_count": 128,
   "metadata": {
    "collapsed": false
   },
   "outputs": [
    {
     "data": {
      "image/png": "[encoded data removed]",
      "text/plain": [
       "<matplotlib.figure.Figure at 0x119c4fd30>"
      ]
     },
     "metadata": {},
     "output_type": "display_data"
    }
   ],
   "source": [
    "target = lambda x1, x2: np.sign(x1**2+x2**2-0.6)\n",
    "raw = generatePts(1000)\n",
    "data = []\n",
    "for x in raw:\n",
    "    data.append([1, x[0], x[1], target(x[0],x[1])])\n",
    "\n",
    "for x in data:\n",
    "    if ran.choice(range(10)) == 1:\n",
    "        x[len(x)-1] = -x[len(x)-1]\n",
    "\n",
    "trans_data = []\n",
    "for x in data:\n",
    "    trans_data.append([1,x[1],x[2],x[1]*x[2],x[1]**2,x[2]**2,x[3]])\n",
    "    \n",
    "w = doReg(trans_data, test=False)"
   ]
  },
  {
   "cell_type": "code",
   "execution_count": 141,
   "metadata": {
    "collapsed": false
   },
   "outputs": [],
   "source": [
    "ws = [[],[],[],[],[],[]]\n",
    "errors = []\n",
    "\n",
    "# w's for the options\n",
    "w_a = [-1,-.05,0.08,0.13,1.5,1.5]\n",
    "w_b = [-1,-.05,.08,.13,1.5,15]\n",
    "w_c = [-1,-.05,.08,.13,15,1.5]\n",
    "w_d = [-1,-1.5,.08,.13,.05,.05]\n",
    "w_e = [-1,-.05,.08,1.5,.15,.15]\n",
    "for i in range(1000):\n",
    "    # generate labeled pts w/ noise\n",
    "    target = lambda x1, x2: np.sign(x1**2+x2**2-0.6)\n",
    "    raw = generatePts(1000)\n",
    "    data = []\n",
    "    for x in raw:\n",
    "        data.append([1, x[0], x[1], target(x[0],x[1])])\n",
    "\n",
    "    for x in data:\n",
    "        if ran.choice(range(10)) == 1:\n",
    "            x[len(x)-1] = -x[len(x)-1]\n",
    "\n",
    "    # generate transformed data set\n",
    "    trans_data = []\n",
    "    for x in data:\n",
    "        trans_data.append([1,x[1],x[2],x[1]*x[2],x[1]**2,x[2]**2,x[3]])\n",
    "    \n",
    "    # run regression in Z space\n",
    "    w = doReg(trans_data, test=False, graph=False)\n",
    "    \n",
    "    # keep track of w's for this run\n",
    "    for i in range(len(w)):\n",
    "        ws[i].append(w[i])\n",
    "        \n",
    "    \n",
    "    # test E_out with 1000 noisy points\n",
    "    raw_test=generatePts(1000)\n",
    "    test_data = []\n",
    "    for x in raw_test:\n",
    "        test_data.append([1, x[0], x[1], target(x[0],x[1])])\n",
    "\n",
    "    for x in test_data:\n",
    "        if ran.choice(range(10)) == 1:\n",
    "            x[len(x)-1] = -x[len(x)-1]\n",
    "\n",
    "    trans_test_data = []\n",
    "    for x in test_data:\n",
    "        trans_test_data.append([1,x[1],x[2],x[1]*x[2],x[1]**2,x[2]**2,x[3]])\n",
    "    \n",
    "    # approx E_out for the five w's\n",
    "    E_in = 0\n",
    "    E_a = 0\n",
    "    E_b = 0\n",
    "    E_c = 0\n",
    "    E_d = 0\n",
    "    E_e = 0\n",
    "    \n",
    "    for x in trans_test_data:\n",
    "        prod = 0\n",
    "        prod_a = 0\n",
    "        prod_b = 0\n",
    "        prod_c = 0\n",
    "        prod_d = 0\n",
    "        prod_e = 0\n",
    "        \n",
    "        for i in range(len(w)):\n",
    "            prod += x[i]*w[i]\n",
    "            prod_a += x[i]*w_a[i]\n",
    "            prod_b += x[i]*w_b[i]\n",
    "            prod_c += x[i]*w_c[i]\n",
    "            prod_d += x[i]*w_d[i]\n",
    "            prod_e += x[i]*w_e[i]\n",
    "    \n",
    "        if np.sign(prod) != x[len(x)-1]:\n",
    "            E_in += 1\n",
    "        \n",
    "        if np.sign(prod) != np.sign(prod_a):\n",
    "            E_a += 1\n",
    "            \n",
    "        if np.sign(prod) != np.sign(prod_b):\n",
    "            E_b += 1\n",
    "        \n",
    "        if np.sign(prod) != np.sign(prod_c):\n",
    "            E_c += 1\n",
    "            \n",
    "        if np.sign(prod) != np.sign(prod_d):\n",
    "            E_d += 1\n",
    "            \n",
    "        if np.sign(prod) != np.sign(prod_e):\n",
    "            E_e += 1\n",
    "            \n",
    "            \n",
    "    E_a /= float(len(trans_test_data))\n",
    "    E_b /= float(len(trans_test_data))\n",
    "    E_c /= float(len(trans_test_data))\n",
    "    E_d /= float(len(trans_test_data))\n",
    "    E_e /= float(len(trans_test_data))\n",
    "    \n",
    "    \n",
    "    E_in /= float(len(trans_test_data))\n",
    "    errors.append(E_in)\n",
    "\n",
    "        "
   ]
  },
  {
   "cell_type": "code",
   "execution_count": 142,
   "metadata": {
    "collapsed": false
   },
   "outputs": [
    {
     "name": "stdout",
     "output_type": "stream",
     "text": [
      "AVERAGES: \n",
      "E_a: 0.046\n",
      "E_b: 0.349\n",
      "E_c: 0.322\n",
      "E_d: 0.381\n",
      "E_e: 0.447\n"
     ]
    }
   ],
   "source": [
    "print(\"AVERAGES: \")\n",
    "print(\"E_a: \" + str(E_a))\n",
    "print(\"E_b: \" + str(E_b))\n",
    "print(\"E_c: \" + str(E_c))\n",
    "print(\"E_d: \" + str(E_d))\n",
    "print(\"E_e: \" + str(E_e))"
   ]
  },
  {
   "cell_type": "code",
   "execution_count": 122,
   "metadata": {
    "collapsed": false
   },
   "outputs": [
    {
     "name": "stdout",
     "output_type": "stream",
     "text": [
      "AVERGAES\n",
      "w_0: -0.991873753407\n",
      "w_1: 0.00176627230769\n",
      "w_2: -0.00129835540913\n",
      "w_3: -0.00120287709573\n",
      "w_4: 1.55874871723\n",
      "w_5: 1.55733598801\n"
     ]
    }
   ],
   "source": [
    "print('AVERGAES')\n",
    "for i in range(len(ws)):\n",
    "    print ('w_' + str(i) + ': ' + str(np.mean(ws[i])))\n",
    "    "
   ]
  },
  {
   "cell_type": "code",
   "execution_count": 131,
   "metadata": {
    "collapsed": false
   },
   "outputs": [
    {
     "name": "stdout",
     "output_type": "stream",
     "text": [
      "AVERAGE E_out estimate: 0.127061\n"
     ]
    }
   ],
   "source": [
    "print('AVERAGE E_out estimate: ' + str(np.mean(errors)))"
   ]
  }
 ],
 "metadata": {
  "kernelspec": {
   "display_name": "Python 3",
   "language": "python",
   "name": "python3"
  },
  "language_info": {
   "codemirror_mode": {
    "name": "ipython",
    "version": 3
   },
   "file_extension": ".py",
   "mimetype": "text/x-python",
   "name": "python",
   "nbconvert_exporter": "python",
   "pygments_lexer": "ipython3",
   "version": "3.6.0"
  }
 },
 "nbformat": 4,
 "nbformat_minor": 2
}
