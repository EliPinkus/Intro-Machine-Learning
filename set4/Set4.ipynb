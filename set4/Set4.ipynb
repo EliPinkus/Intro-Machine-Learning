{
 "cells": [
  {
   "cell_type": "code",
   "execution_count": 2,
   "metadata": {
    "collapsed": true
   },
   "outputs": [],
   "source": [
    "import numpy as np\n",
    "import matplotlib.pyplot as plt\n",
    "import random as ran\n",
    "import scipy.integrate as integrate\n",
    "from sklearn.linear_model import LinearRegression\n",
    "%matplotlib inline"
   ]
  },
  {
   "cell_type": "code",
   "execution_count": 20,
   "metadata": {
    "collapsed": false
   },
   "outputs": [
    {
     "data": {
      "text/plain": [
       "1.4298201676041062"
      ]
     },
     "execution_count": 20,
     "metadata": {},
     "output_type": "execute_result"
    }
   ],
   "source": [
    "# get average a over 1,000,000 random iterations\n",
    "a=[]\n",
    "for i in range(1000000):\n",
    "    x1 = ran.uniform(-1,1)\n",
    "    x2 = ran.uniform(-1,1)\n",
    "    \n",
    "    a.append((x2*np.sin(np.pi*x2)+x1*np.sin(np.pi*x1))/(x1**2+x2**2))\n",
    "    \n",
    "np.mean(a)"
   ]
  },
  {
   "cell_type": "code",
   "execution_count": 26,
   "metadata": {
    "collapsed": false
   },
   "outputs": [
    {
     "data": {
      "text/plain": [
       "0.23506594972253206"
      ]
     },
     "execution_count": 26,
     "metadata": {},
     "output_type": "execute_result"
    }
   ],
   "source": [
    "# approx expected value of variance given a random two points data set\n",
    "# for each dataset check variance on 10000 points\n",
    "var = []\n",
    "for i in range(10000):\n",
    "    x1 = ran.uniform(-1,1)\n",
    "    x2 = ran.uniform(-1,1)\n",
    "    \n",
    "    a = (x2*np.sin(np.pi*x2)+x1*np.sin(np.pi*x1))/(x1**2+x2**2)\n",
    "    \n",
    "    var_x = []\n",
    "    for j in range(10000):\n",
    "        x = ran.uniform(-1,1)\n",
    "        var_x.append((1.43*x-a*x)**2)\n",
    "    \n",
    "    var.append(np.mean(var_x))\n",
    "    \n",
    "    \n",
    "np.mean(var)"
   ]
  },
  {
   "cell_type": "markdown",
   "metadata": {},
   "source": [
    "We run the simulation on 10,000,000 points for the model $h(x)=ax^2$"
   ]
  },
  {
   "cell_type": "code",
   "execution_count": 6,
   "metadata": {
    "collapsed": false
   },
   "outputs": [
    {
     "data": {
      "text/plain": [
       "-0.0016326130695249502"
      ]
     },
     "execution_count": 6,
     "metadata": {},
     "output_type": "execute_result"
    }
   ],
   "source": [
    "a = []\n",
    "for i in range(10000000):\n",
    "    x1 = ran.uniform(-1,1)\n",
    "    x2 = ran.uniform(-1,1)\n",
    "    \n",
    "    a.append((x2**2*np.sin(np.pi*x2)+x1**2*np.sin(np.pi*x1))/(x1**4+x2**4))\n",
    "    \n",
    "np.mean(a)"
   ]
  },
  {
   "cell_type": "code",
   "execution_count": 7,
   "metadata": {
    "collapsed": false
   },
   "outputs": [
    {
     "data": {
      "text/plain": [
       "-0.0038396689199604278"
      ]
     },
     "execution_count": 7,
     "metadata": {},
     "output_type": "execute_result"
    }
   ],
   "source": [
    "a = []\n",
    "for i in range(10000000):\n",
    "    x1 = ran.uniform(-1,1)\n",
    "    x2 = ran.uniform(-1,1)\n",
    "    \n",
    "    a.append((x2**2*np.sin(np.pi*x2)+x1**2*np.sin(np.pi*x1))/(x1**4+x2**4))\n",
    "    \n",
    "np.mean(a)"
   ]
  },
  {
   "cell_type": "code",
   "execution_count": 8,
   "metadata": {
    "collapsed": false
   },
   "outputs": [
    {
     "data": {
      "text/plain": [
       "-0.0057903231752758078"
      ]
     },
     "execution_count": 8,
     "metadata": {},
     "output_type": "execute_result"
    }
   ],
   "source": [
    "a = []\n",
    "for i in range(10000000):\n",
    "    x1 = ran.uniform(-1,1)\n",
    "    x2 = ran.uniform(-1,1)\n",
    "    \n",
    "    a.append((x2**2*np.sin(np.pi*x2)+x1**2*np.sin(np.pi*x1))/(x1**4+x2**4))\n",
    "    \n",
    "np.mean(a)"
   ]
  },
  {
   "cell_type": "code",
   "execution_count": 9,
   "metadata": {
    "collapsed": false
   },
   "outputs": [
    {
     "data": {
      "text/plain": [
       "24.2863967467928"
      ]
     },
     "execution_count": 9,
     "metadata": {},
     "output_type": "execute_result"
    }
   ],
   "source": [
    "# approx expected value of variance given a random two points data set\n",
    "# for each dataset check variance on 10000 points\n",
    "var = []\n",
    "for i in range(10000):\n",
    "    x1 = ran.uniform(-1,1)\n",
    "    x2 = ran.uniform(-1,1)\n",
    "    \n",
    "    a = ((x2**2*np.sin(np.pi*x2)+x1**2*np.sin(np.pi*x1))/(x1**4+x2**4))\n",
    "    \n",
    "    var_x = []\n",
    "    for j in range(10000):\n",
    "        x = ran.uniform(-1,1)\n",
    "        var_x.append((a*x**2)**2)\n",
    "    \n",
    "    var.append(np.mean(var_x))\n",
    "    \n",
    "    \n",
    "np.mean(var)"
   ]
  },
  {
   "cell_type": "code",
   "execution_count": null,
   "metadata": {
    "collapsed": true
   },
   "outputs": [],
   "source": []
  }
 ],
 "metadata": {
  "kernelspec": {
   "display_name": "Python 3",
   "language": "python",
   "name": "python3"
  },
  "language_info": {
   "codemirror_mode": {
    "name": "ipython",
    "version": 3
   },
   "file_extension": ".py",
   "mimetype": "text/x-python",
   "name": "python",
   "nbconvert_exporter": "python",
   "pygments_lexer": "ipython3",
   "version": "3.6.0"
  }
 },
 "nbformat": 4,
 "nbformat_minor": 2
}
