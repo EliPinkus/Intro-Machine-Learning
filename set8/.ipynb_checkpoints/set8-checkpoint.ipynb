{
 "cells": [
  {
   "cell_type": "code",
   "execution_count": 11,
   "metadata": {
    "collapsed": false
   },
   "outputs": [],
   "source": [
    "import pandas as pd\n",
    "import numpy as np\n",
    "from sklearn import linear_model\n",
    "import random as ran\n",
    "import matplotlib.pyplot as plt\n",
    "%matplotlib inline\n",
    "from sklearn import svm\n",
    "from sklearn.model_selection import KFold"
   ]
  },
  {
   "cell_type": "code",
   "execution_count": 45,
   "metadata": {
    "collapsed": false
   },
   "outputs": [],
   "source": [
    "with open('features.train','r') as tsv:\n",
    "    raw = [line.strip().split('\\t') for line in tsv]\n",
    "    \n",
    "split = []\n",
    "for pt in raw:\n",
    "    split.append(pt[0].split())\n",
    "    \n",
    "train = []\n",
    "for pt in split:\n",
    "    train.append([np.array([float(pt[1]),float(pt[2])]),int(float(pt[0]))])\n",
    "    \n",
    "\n"
   ]
  },
  {
   "cell_type": "code",
   "execution_count": 102,
   "metadata": {
    "collapsed": false
   },
   "outputs": [],
   "source": [
    "# prepare data for k versus all:\n",
    "e_ins = []\n",
    "svs = []\n",
    "for k in [0,1,2,3,4,5,6,7,8,9]:\n",
    "    with open('features.train','r') as tsv:\n",
    "        raw = [line.strip().split('\\t') for line in tsv]\n",
    "\n",
    "    split = []\n",
    "    for pt in raw:\n",
    "        split.append(pt[0].split())\n",
    "\n",
    "    train = []\n",
    "    for pt in split:\n",
    "        train.append([np.array([float(pt[1]),float(pt[2])]),float(pt[0])])\n",
    "    for pt in train:\n",
    "        if pt[1] == k:\n",
    "            pt[1] = 1.0\n",
    "        else:\n",
    "            pt[1] = -1.0\n",
    "\n",
    "\n",
    "    X_train = []\n",
    "    y_train = []\n",
    "    for pt in train:\n",
    "        X_train.append(pt[0])\n",
    "        y_train.append(pt[1])\n",
    "\n",
    "\n",
    "    s = svm.SVC(kernel='poly', degree = 2, C=0.01, coef0=1.0, gamma=1.0)\n",
    "    s.fit(X_train,y_train)\n",
    "    svs.append(len(s.support_vectors_))\n",
    "\n",
    "    e = 0.0\n",
    "    for pt in train:\n",
    "        svm_guess = s.predict([pt[0]])\n",
    "        if svm_guess[0] != pt[1]:\n",
    "            e += 1\n",
    "\n",
    "    e /= len(train)\n",
    "    \n",
    "    e_ins.append((e,k))"
   ]
  },
  {
   "cell_type": "code",
   "execution_count": 100,
   "metadata": {
    "collapsed": false
   },
   "outputs": [
    {
     "data": {
      "text/plain": [
       "[(0.10588396653408312, 0),\n",
       " (0.014401316691811822, 1),\n",
       " (0.10026059525442327, 2),\n",
       " (0.09024825126868742, 3),\n",
       " (0.08942531888629818, 4),\n",
       " (0.07625840076807022, 5),\n",
       " (0.09107118365107666, 6),\n",
       " (0.08846523110684405, 7),\n",
       " (0.07433822520916199, 8),\n",
       " (0.08832807570977919, 9)]"
      ]
     },
     "execution_count": 100,
     "metadata": {},
     "output_type": "execute_result"
    }
   ],
   "source": [
    "e_ins"
   ]
  },
  {
   "cell_type": "code",
   "execution_count": 101,
   "metadata": {
    "collapsed": false
   },
   "outputs": [
    {
     "data": {
      "text/plain": [
       "((0.10588396653408312, 0), (0.014401316691811822, 1))"
      ]
     },
     "execution_count": 101,
     "metadata": {},
     "output_type": "execute_result"
    }
   ],
   "source": [
    "max(e_ins), min(e_ins)"
   ]
  },
  {
   "cell_type": "code",
   "execution_count": 103,
   "metadata": {
    "collapsed": false
   },
   "outputs": [
    {
     "data": {
      "text/plain": [
       "1793"
      ]
     },
     "execution_count": 103,
     "metadata": {},
     "output_type": "execute_result"
    }
   ],
   "source": [
    "np.abs(svs[0]-svs[1])"
   ]
  },
  {
   "cell_type": "code",
   "execution_count": 160,
   "metadata": {
    "collapsed": false
   },
   "outputs": [],
   "source": [
    "k1,k2=1.0,5.0\n",
    "Cs = [.001,.01,.1,1]\n",
    "svs = []\n",
    "e_ins = []\n",
    "e_outs = []\n",
    "for c in Cs:\n",
    "    \n",
    "    # format training data\n",
    "    with open('features.train','r') as tsv:\n",
    "        raw = [line.strip().split('\\t') for line in tsv]\n",
    "    \n",
    "    \n",
    "\n",
    "    split = []\n",
    "    for pt in raw:\n",
    "        split.append(pt[0].split())\n",
    "\n",
    "    train = []\n",
    "    for pt in split:\n",
    "        if float(pt[0]) == k1:\n",
    "            train.append([np.array([float(pt[1]),float(pt[2])]),1.0])\n",
    "        elif float(pt[0]) == k2:\n",
    "            train.append([np.array([float(pt[1]),float(pt[2])]),-1.0])\n",
    "\n",
    "\n",
    "\n",
    "    X_train = []\n",
    "    y_train = []\n",
    "    for pt in train:\n",
    "        X_train.append(pt[0])\n",
    "        y_train.append(pt[1])\n",
    "        \n",
    "    \n",
    "    split = []\n",
    "    for pt in raw:\n",
    "        split.append(pt[0].split())\n",
    "\n",
    "    \n",
    "    # format testing data\n",
    "    with open('features.test','r') as tsv:\n",
    "        raw = [line.strip().split('\\t') for line in tsv]\n",
    "        \n",
    "    split = []\n",
    "    for pt in raw:\n",
    "        split.append(pt[0].split())\n",
    "        \n",
    "    test = []\n",
    "    for pt in split:\n",
    "        if float(pt[0]) == k1:\n",
    "            test.append([np.array([float(pt[1]),float(pt[2])]),1.0])\n",
    "        elif float(pt[0]) == k2:\n",
    "            test.append([np.array([float(pt[1]),float(pt[2])]),-1.0])\n",
    "\n",
    "        \n",
    "    \n",
    "    # running SVM\n",
    "    s = svm.SVC(kernel='poly', degree = 2, C=c, coef0=1.0, gamma=1.0)\n",
    "    s.fit(X_train,y_train)\n",
    "    svs.append((len(s.support_vectors_),c))\n",
    "\n",
    "    #calculating E_in\n",
    "    e_in = 0.0\n",
    "    for pt in train:\n",
    "        svm_guess = s.predict([pt[0]])\n",
    "        if svm_guess[0] != pt[1]:\n",
    "            e_in += 1\n",
    "    \n",
    "\n",
    "    e_in /= len(train)\n",
    "\n",
    "    e_ins.append((e_in,c))\n",
    "    \n",
    "    #calculating E_out\n",
    "    e_out = 0.0\n",
    "    for pt in test:\n",
    "        svm_guess = s.predict([pt[0]])\n",
    "        if svm_guess[0] != pt[1]:\n",
    "            e_out += 1\n",
    "            \n",
    "    e_out /= len(test)\n",
    "    \n",
    "    e_outs.append((e_out, c))"
   ]
  },
  {
   "cell_type": "code",
   "execution_count": 161,
   "metadata": {
    "collapsed": false
   },
   "outputs": [
    {
     "data": {
      "text/plain": [
       "[(0.004484304932735426, 0.001),\n",
       " (0.004484304932735426, 0.01),\n",
       " (0.004484304932735426, 0.1),\n",
       " (0.0032030749519538757, 1)]"
      ]
     },
     "execution_count": 161,
     "metadata": {},
     "output_type": "execute_result"
    }
   ],
   "source": [
    "e_ins"
   ]
  },
  {
   "cell_type": "code",
   "execution_count": 162,
   "metadata": {
    "collapsed": false
   },
   "outputs": [
    {
     "data": {
      "text/plain": [
       "[(0.01650943396226415, 0.001),\n",
       " (0.018867924528301886, 0.01),\n",
       " (0.018867924528301886, 0.1),\n",
       " (0.018867924528301886, 1)]"
      ]
     },
     "execution_count": 162,
     "metadata": {},
     "output_type": "execute_result"
    }
   ],
   "source": [
    "e_outs"
   ]
  },
  {
   "cell_type": "code",
   "execution_count": 163,
   "metadata": {
    "collapsed": true
   },
   "outputs": [],
   "source": [
    "k1,k2=1.0,5.0\n",
    "Cs = [.001,.01,.1,1]\n",
    "svs = []\n",
    "e_ins = []\n",
    "e_outs = []\n",
    "for c in Cs:\n",
    "    \n",
    "    # format training data\n",
    "    with open('features.train','r') as tsv:\n",
    "        raw = [line.strip().split('\\t') for line in tsv]\n",
    "    \n",
    "    \n",
    "\n",
    "    split = []\n",
    "    for pt in raw:\n",
    "        split.append(pt[0].split())\n",
    "\n",
    "    train = []\n",
    "    for pt in split:\n",
    "        if float(pt[0]) == k1:\n",
    "            train.append([np.array([float(pt[1]),float(pt[2])]),1.0])\n",
    "        elif float(pt[0]) == k2:\n",
    "            train.append([np.array([float(pt[1]),float(pt[2])]),-1.0])\n",
    "\n",
    "\n",
    "\n",
    "    X_train = []\n",
    "    y_train = []\n",
    "    for pt in train:\n",
    "        X_train.append(pt[0])\n",
    "        y_train.append(pt[1])\n",
    "        \n",
    "    \n",
    "    split = []\n",
    "    for pt in raw:\n",
    "        split.append(pt[0].split())\n",
    "\n",
    "    \n",
    "    # format testing data\n",
    "    with open('features.test','r') as tsv:\n",
    "        raw = [line.strip().split('\\t') for line in tsv]\n",
    "        \n",
    "    split = []\n",
    "    for pt in raw:\n",
    "        split.append(pt[0].split())\n",
    "        \n",
    "    test = []\n",
    "    for pt in split:\n",
    "        if float(pt[0]) == k1:\n",
    "            test.append([np.array([float(pt[1]),float(pt[2])]),1.0])\n",
    "        elif float(pt[0]) == k2:\n",
    "            test.append([np.array([float(pt[1]),float(pt[2])]),-1.0])\n",
    "\n",
    "        \n",
    "    \n",
    "    # running SVM\n",
    "    s = svm.SVC(kernel='poly', degree = 5, C=c, coef0=1.0, gamma=1.0)\n",
    "    s.fit(X_train,y_train)\n",
    "    svs.append((len(s.support_vectors_),c))\n",
    "\n",
    "    #calculating E_in\n",
    "    e_in = 0.0\n",
    "    for pt in train:\n",
    "        svm_guess = s.predict([pt[0]])\n",
    "        if svm_guess[0] != pt[1]:\n",
    "            e_in += 1\n",
    "    \n",
    "\n",
    "    e_in /= len(train)\n",
    "\n",
    "    e_ins.append((e_in,c))\n",
    "    \n",
    "    #calculating E_out\n",
    "    e_out = 0.0\n",
    "    for pt in test:\n",
    "        svm_guess = s.predict([pt[0]])\n",
    "        if svm_guess[0] != pt[1]:\n",
    "            e_out += 1\n",
    "            \n",
    "    e_out /= len(test)\n",
    "    \n",
    "    e_outs.append((e_out, c))"
   ]
  },
  {
   "cell_type": "code",
   "execution_count": 164,
   "metadata": {
    "collapsed": false
   },
   "outputs": [
    {
     "data": {
      "text/plain": [
       "[(0.004484304932735426, 0.001),\n",
       " (0.003843689942344651, 0.01),\n",
       " (0.0032030749519538757, 0.1),\n",
       " (0.0032030749519538757, 1)]"
      ]
     },
     "execution_count": 164,
     "metadata": {},
     "output_type": "execute_result"
    }
   ],
   "source": [
    "e_ins"
   ]
  },
  {
   "cell_type": "code",
   "execution_count": 165,
   "metadata": {
    "collapsed": false
   },
   "outputs": [
    {
     "data": {
      "text/plain": [
       "[(0.02122641509433962, 0.001),\n",
       " (0.02122641509433962, 0.01),\n",
       " (0.018867924528301886, 0.1),\n",
       " (0.02122641509433962, 1)]"
      ]
     },
     "execution_count": 165,
     "metadata": {},
     "output_type": "execute_result"
    }
   ],
   "source": [
    "e_outs"
   ]
  },
  {
   "cell_type": "code",
   "execution_count": null,
   "metadata": {
    "collapsed": true
   },
   "outputs": [],
   "source": []
  },
  {
   "cell_type": "code",
   "execution_count": null,
   "metadata": {
    "collapsed": true
   },
   "outputs": [],
   "source": []
  },
  {
   "cell_type": "code",
   "execution_count": null,
   "metadata": {
    "collapsed": true
   },
   "outputs": [],
   "source": []
  },
  {
   "cell_type": "code",
   "execution_count": 82,
   "metadata": {
    "collapsed": false
   },
   "outputs": [],
   "source": [
    "# format training data\n",
    "with open('features.train','r') as tsv:\n",
    "    raw = [line.strip().split('\\t') for line in tsv]\n",
    "\n",
    "\n",
    "\n",
    "split = []\n",
    "for pt in raw:\n",
    "    split.append(pt[0].split())\n",
    "\n",
    "train = []\n",
    "for pt in split:\n",
    "    if float(pt[0]) == 1:\n",
    "        train.append([np.array([float(pt[1]),float(pt[2])]),1.0])\n",
    "    elif float(pt[0]) == 5:\n",
    "        train.append([np.array([float(pt[1]),float(pt[2])]),-1.0])\n",
    "\n",
    "\n",
    "\n",
    "X = []\n",
    "y = []\n",
    "for pt in train:\n",
    "    X.append(pt[0])\n",
    "    y.append(pt[1])\n",
    "\n",
    "winner = {0.0001:0,0.001:0,0.01:0,0.1:0,1:0}\n",
    "bests = []\n",
    "for j in range(100):\n",
    "    Cs = [.0001,.001,.01,.1,1]\n",
    "    E_CV_av = []\n",
    "    for c in Cs:\n",
    "        s = svm.SVC(kernel='poly', degree = 2, C=c, coef0=1.0, gamma=1.0)\n",
    "        # split into the folds\n",
    "        kf = KFold(n_splits=10, shuffle = True)\n",
    "        E_cvs = []\n",
    "        for train_index, test_index in kf.split(X):\n",
    "            X_train, y_train = [],[]\n",
    "            for i in train_index:\n",
    "                X_train.append(X[i])\n",
    "                y_train.append(y[i])\n",
    "\n",
    "            X_test, y_test = [], []\n",
    "            for i in test_index:\n",
    "                X_test.append(X[i])\n",
    "                y_test.append(y[i])\n",
    "\n",
    "            s.fit(X_train,y_train)\n",
    "\n",
    "            # get E_cv\n",
    "            E_cv = 0.0\n",
    "            for i in range(len(X_test)):\n",
    "                svm_guess = s.predict([X_test[i]])\n",
    "                if svm_guess[0] != y_test[i]:\n",
    "                    E_cv += 1\n",
    "\n",
    "            E_cv /= len(X_test)\n",
    "\n",
    "            E_cvs.append(E_cv)\n",
    "\n",
    "        E_CV_av.append((np.mean(E_cvs),c))\n",
    "    winner[min(E_CV_av)[1]] += 1\n",
    "    bests.append(min(E_CV_av)[0])"
   ]
  },
  {
   "cell_type": "code",
   "execution_count": 85,
   "metadata": {
    "collapsed": false
   },
   "outputs": [
    {
     "data": {
      "text/plain": [
       "{0.0001: 0, 0.001: 37, 0.01: 28, 0.1: 14, 1: 21}"
      ]
     },
     "execution_count": 85,
     "metadata": {},
     "output_type": "execute_result"
    }
   ],
   "source": [
    "winner"
   ]
  },
  {
   "cell_type": "code",
   "execution_count": 86,
   "metadata": {
    "collapsed": false
   },
   "outputs": [
    {
     "data": {
      "text/plain": [
       "0.0044065409113179807"
      ]
     },
     "execution_count": 86,
     "metadata": {},
     "output_type": "execute_result"
    }
   ],
   "source": [
    "np.mean(bests)"
   ]
  },
  {
   "cell_type": "code",
   "execution_count": 79,
   "metadata": {
    "collapsed": false
   },
   "outputs": [],
   "source": [
    "# format testing data\n",
    "with open('features.test','r') as tsv:\n",
    "    raw = [line.strip().split('\\t') for line in tsv]\n",
    "\n",
    "split = []\n",
    "for pt in raw:\n",
    "    split.append(pt[0].split())\n",
    "\n",
    "test = []\n",
    "for pt in split:\n",
    "    if float(pt[0]) == 1:\n",
    "        test.append([np.array([float(pt[1]),float(pt[2])]),1.0])\n",
    "    elif float(pt[0]) == 5:\n",
    "        test.append([np.array([float(pt[1]),float(pt[2])]),-1.0])\n",
    "\n",
    "\n",
    "\n",
    "Cs = [.01,1,100,1e4,1e6]\n",
    "E_ins = []\n",
    "E_outs = []\n",
    "for c in Cs:\n",
    "    s = svm.SVC(kernel='rbf', C=c, coef0=1.0, gamma=1.0)\n",
    "    s.fit(X,y)\n",
    "\n",
    "    E_in = 0.0\n",
    "    for i in range(len(X)):\n",
    "        svm_guess = s.predict([X[i]])\n",
    "        if svm_guess[0] != y[i]:\n",
    "            E_in += 1\n",
    "\n",
    "    E_in /= len(X)\n",
    "    E_ins.append((E_in,c))\n",
    "    \n",
    "    #calculating E_out\n",
    "    E_out = 0.0\n",
    "    for pt in test:\n",
    "        svm_guess = s.predict([pt[0]])\n",
    "        if svm_guess[0] != pt[1]:\n",
    "            E_out += 1\n",
    "            \n",
    "    E_out /= len(test)\n",
    "    \n",
    "    E_outs.append((E_out, c))"
   ]
  },
  {
   "cell_type": "code",
   "execution_count": 80,
   "metadata": {
    "collapsed": false
   },
   "outputs": [
    {
     "data": {
      "text/plain": [
       "[(0.003843689942344651, 0.01),\n",
       " (0.004484304932735426, 1),\n",
       " (0.0032030749519538757, 100),\n",
       " (0.0025624599615631004, 10000.0),\n",
       " (0.0006406149903907751, 1000000.0)]"
      ]
     },
     "execution_count": 80,
     "metadata": {},
     "output_type": "execute_result"
    }
   ],
   "source": [
    "E_ins"
   ]
  },
  {
   "cell_type": "code",
   "execution_count": 81,
   "metadata": {
    "collapsed": false
   },
   "outputs": [
    {
     "data": {
      "text/plain": [
       "[(0.02358490566037736, 0.01),\n",
       " (0.02122641509433962, 1),\n",
       " (0.018867924528301886, 100),\n",
       " (0.02358490566037736, 10000.0),\n",
       " (0.02358490566037736, 1000000.0)]"
      ]
     },
     "execution_count": 81,
     "metadata": {},
     "output_type": "execute_result"
    }
   ],
   "source": [
    "E_outs"
   ]
  },
  {
   "cell_type": "code",
   "execution_count": null,
   "metadata": {
    "collapsed": true
   },
   "outputs": [],
   "source": []
  }
 ],
 "metadata": {
  "kernelspec": {
   "display_name": "Python 3",
   "language": "python",
   "name": "python3"
  },
  "language_info": {
   "codemirror_mode": {
    "name": "ipython",
    "version": 3
   },
   "file_extension": ".py",
   "mimetype": "text/x-python",
   "name": "python",
   "nbconvert_exporter": "python",
   "pygments_lexer": "ipython3",
   "version": "3.6.0"
  }
 },
 "nbformat": 4,
 "nbformat_minor": 2
}
