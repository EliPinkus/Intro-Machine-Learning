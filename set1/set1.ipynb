{
 "cells": [
  {
   "cell_type": "code",
   "execution_count": 11,
   "metadata": {
    "collapsed": true
   },
   "outputs": [],
   "source": [
    "import numpy as np\n",
    "import matplotlib.pyplot as plt\n",
    "import random as ran\n",
    "import scipy.integrate as integrate\n",
    "%matplotlib inline"
   ]
  },
  {
   "cell_type": "code",
   "execution_count": 12,
   "metadata": {
    "collapsed": true
   },
   "outputs": [],
   "source": [
    "# make a line between two random points\n",
    "def getLine():\n",
    "    (x1, y1) = (ran.uniform(-1,1), ran.uniform(-1,1))\n",
    "    (x2, y2) = (ran.uniform(-1,1), ran.uniform(-1,1))\n",
    "    line = lambda x:(y2-y1)/(x2-x1)*(x-x1)\n",
    "    return line"
   ]
  },
  {
   "cell_type": "code",
   "execution_count": 13,
   "metadata": {
    "collapsed": true
   },
   "outputs": [],
   "source": [
    "# Generate N unlabeled test pts\n",
    "def generatePts(N):\n",
    "    pts = []\n",
    "    for i in range(0,N):\n",
    "        pt = ran.uniform(-1,1), ran.uniform(-1,1)\n",
    "        pts.append(pt)\n",
    "    return pts"
   ]
  },
  {
   "cell_type": "code",
   "execution_count": 14,
   "metadata": {
    "collapsed": false
   },
   "outputs": [],
   "source": [
    "# run the PLA, graph is asked, test w/ 1000 pts if asked\n",
    "def doPLA(N, graph = True, test = True):\n",
    "    line = getLine()\n",
    "    pts = generatePts(N)\n",
    "    \n",
    "    \n",
    "    \n",
    "    # craet a set of labeled points according to f(x)\n",
    "    labeled_pts = []\n",
    "    for pt in pts:\n",
    "        if pt[1] > line(pt[0]):\n",
    "            labeled_pts.append((1, pt[0], pt[1], 1))\n",
    "        else:\n",
    "            labeled_pts.append((1, pt[0], pt[1], -1))\n",
    "            \n",
    "            \n",
    "    # Graph target function and labeled pts if we want\n",
    "    if graph == True:\n",
    "        X = np.linspace(-1,1,1000)\n",
    "        y = line(X)\n",
    "        plt.ylim(-1,1)\n",
    "        plt.xlim(-1,1)\n",
    "        plt.plot(X,y)\n",
    "        for pt in labeled_pts:\n",
    "            if pt[3] == 1:\n",
    "                plt.plot(pt[1],pt[2], 'g^')\n",
    "            else:\n",
    "                plt.plot(pt[1],pt[2], 'r^')\n",
    "            \n",
    "    \n",
    "    #initialize PLA w/ all points wrong\n",
    "    w = [0,0,0]\n",
    "    mis_pts = []\n",
    "    for pt in labeled_pts:\n",
    "        mis_pts.append(pt)\n",
    "    \n",
    "    # begin perceptron iterations and count them\n",
    "    iters = 0\n",
    "    while len(mis_pts) is not 0:\n",
    "        # choose randoim missclasified point and update\n",
    "        pt = ran.choice(mis_pts)\n",
    "        \n",
    "        w[0] += pt[3]*pt[0]\n",
    "        w[1] += pt[3]*pt[1]\n",
    "        w[2] += pt[3]*pt[2]\n",
    "        \n",
    "        \n",
    "        # recheck for misclassified points\n",
    "        mis_pts = []\n",
    "        \n",
    "        for pt in labeled_pts:\n",
    "            if np.sign(w[0]+w[1]*pt[1]+w[2]*pt[2]) != pt[3]:\n",
    "                mis_pts.append(pt)\n",
    "        iters += 1\n",
    "        \n",
    "    pline = lambda x: -(x*w[1]+w[0])/w[2]\n",
    "\n",
    "\n",
    "    if graph == True:\n",
    "        xp = np.linspace(-1,1,1000)\n",
    "        yp = pline(xp)\n",
    "        plt.plot(xp, yp, \"red\")\n",
    "    \n",
    "    # if we want to test, we will test:\n",
    "    if test == True:\n",
    "        # generate and label 10000 test points according to f(x)\n",
    "        test_points = generatePts(1000)\n",
    "\n",
    "        labeled_test_pts = []\n",
    "        for pt in test_points:\n",
    "            if pt[1] > line(pt[0]):\n",
    "                labeled_test_pts.append((1, pt[0], pt[1], 1))\n",
    "            else:\n",
    "                labeled_test_pts.append((1, pt[0], pt[1], -1))\n",
    "\n",
    "        # count misclassified test points\n",
    "        mis_labeled_pts = []\n",
    "        for pt in labeled_test_pts:\n",
    "            if np.sign(w[0]+w[1]*pt[1]+w[2]*pt[2]) != pt[3]:\n",
    "                mis_labeled_pts.append(pt)\n",
    "    \n",
    "        return iters, len(mis_labeled_pts)\n",
    "    \n",
    "    return iters\n",
    "        \n",
    "        \n",
    "\n"
   ]
  },
  {
   "cell_type": "code",
   "execution_count": 15,
   "metadata": {
    "collapsed": false
   },
   "outputs": [
    {
     "name": "stdout",
     "output_type": "stream",
     "text": [
      "Average iterations: 9.641\n",
      "average misclassified test pts: 105.774 out of 1000\n"
     ]
    }
   ],
   "source": [
    "# SOLUTIONS FOR QUESTION 7/8\n",
    "\n",
    "runs = []\n",
    "mis_test = []\n",
    "for i in range(0,1000):\n",
    "    iters, mis = doPLA(10, graph = False)\n",
    "    runs.append(iters)\n",
    "    mis_test.append(mis)\n",
    "    \n",
    "\n",
    "print (\"Average iterations: \" + str(np.mean(runs)))\n",
    "print (\"average misclassified test pts: \" + str(np.mean(mis_test)) + \" out of 1000\")\n"
   ]
  },
  {
   "cell_type": "markdown",
   "metadata": {},
   "source": [
    "7)\n",
    "Thus the answer is B because 9.641 is closest to 15 out of the options\n",
    "\n",
    "8)\n",
    "Thus the answer is C because ${105.774 \\over 1000}=0.105774$ which is closest to 0.1 out of the options"
   ]
  },
  {
   "cell_type": "code",
   "execution_count": 18,
   "metadata": {
    "collapsed": false
   },
   "outputs": [
    {
     "name": "stdout",
     "output_type": "stream",
     "text": [
      "Average iterations: 134.442\n",
      "average misclassified test pts: 13.519 out of 1000\n"
     ]
    }
   ],
   "source": [
    "# SOLUTIONS FOR QUESTIONS 9/10\n",
    "\n",
    "runs = []\n",
    "mis_test = []\n",
    "for i in range(0,1000):\n",
    "    iters, mis = doPLA(100, graph = False)\n",
    "    runs.append(iters)\n",
    "    mis_test.append(mis)\n",
    "    \n",
    "\n",
    "print (\"Average iterations: \" + str(np.mean(runs)))\n",
    "print (\"average misclassified test pts: \" + str(np.mean(mis_test)) + \" out of 1000\")"
   ]
  },
  {
   "cell_type": "markdown",
   "metadata": {},
   "source": [
    "9)\n",
    "Thus the answer is B because 134.442 is closest to 100 out of the options\n",
    "\n",
    "10)\n",
    "Thus the answer is B because ${13.519\\over1000}=0.013519$ is closest to 0.01 out of the options"
   ]
  }
 ],
 "metadata": {
  "kernelspec": {
   "display_name": "Python 3",
   "language": "python",
   "name": "python3"
  },
  "language_info": {
   "codemirror_mode": {
    "name": "ipython",
    "version": 3
   },
   "file_extension": ".py",
   "mimetype": "text/x-python",
   "name": "python",
   "nbconvert_exporter": "python",
   "pygments_lexer": "ipython3",
   "version": "3.6.0"
  }
 },
 "nbformat": 4,
 "nbformat_minor": 2
}
